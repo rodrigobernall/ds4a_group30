{
  "nbformat": 4,
  "nbformat_minor": 0,
  "metadata": {
    "kernelspec": {
      "display_name": "Python 3",
      "language": "python",
      "name": "python3"
    },
    "language_info": {
      "codemirror_mode": {
        "name": "ipython",
        "version": 3
      },
      "file_extension": ".py",
      "mimetype": "text/x-python",
      "name": "python",
      "nbconvert_exporter": "python",
      "pygments_lexer": "ipython3",
      "version": "3.7.3"
    },
    "colab": {
      "name": "geo_processing.ipynb",
      "provenance": [],
      "collapsed_sections": [],
      "machine_shape": "hm",
      "include_colab_link": true
    }
  },
  "cells": [
    {
      "cell_type": "markdown",
      "metadata": {
        "id": "view-in-github",
        "colab_type": "text"
      },
      "source": [
        "<a href=\"https://colab.research.google.com/github/rodrigobernall/ds4a_group30/blob/master/scripts/data_wrangling/geo_processing.ipynb\" target=\"_parent\"><img src=\"https://colab.research.google.com/assets/colab-badge.svg\" alt=\"Open In Colab\"/></a>"
      ]
    },
    {
      "cell_type": "markdown",
      "metadata": {
        "id": "8FMGG8sQ5tf6",
        "colab_type": "text"
      },
      "source": [
        "# Importing libraries"
      ]
    },
    {
      "cell_type": "markdown",
      "metadata": {
        "id": "L1m7Jckd-jed",
        "colab_type": "text"
      },
      "source": [
        "We need to install Rtree for geopandas sjoin function to work. You can install it directly (see [here](https://stackoverflow.com/questions/48293601/how-to-install-libspatialindex-on-google-collaboratory) and [here](https://colab.research.google.com/notebook#fileId=1N7i9zmOwVcUzd4eHWZux4p_WTBMZHi8C)) or install GDAL (see [here](https://github.com/geopandas/geopandas/issues/901) and [here](https://colab.research.google.com/drive/1tSmJmjD3sTI31Cg1UCIKiE10dBUmWUG7#scrollTo=3z2rlY3LkQX9))"
      ]
    },
    {
      "cell_type": "code",
      "metadata": {
        "id": "hwkPFqxepj1-",
        "colab_type": "code",
        "colab": {
          "base_uri": "https://localhost:8080/",
          "height": 1000
        },
        "outputId": "e2d16c30-50ae-45be-cde2-05cd6d3affd7"
      },
      "source": [
        "%%time\n",
        "#!apt update\n",
        "#!apt upgrade\n",
        "!apt install gdal-bin python-gdal python3-gdal\n",
        "!apt install python3-rtree \n",
        "!pip install geopandas\n",
        "!pip install descartes "
      ],
      "execution_count": 1,
      "outputs": [
        {
          "output_type": "stream",
          "text": [
            "Reading package lists... Done\n",
            "Building dependency tree       \n",
            "Reading state information... Done\n",
            "gdal-bin is already the newest version (2.2.3+dfsg-2).\n",
            "python-gdal is already the newest version (2.2.3+dfsg-2).\n",
            "python3-gdal is already the newest version (2.2.3+dfsg-2).\n",
            "0 upgraded, 0 newly installed, 0 to remove and 8 not upgraded.\n",
            "Reading package lists... Done\n",
            "Building dependency tree       \n",
            "Reading state information... Done\n",
            "The following additional packages will be installed:\n",
            "  libspatialindex-c4v5 libspatialindex-dev libspatialindex4v5\n",
            "  python3-pkg-resources\n",
            "Suggested packages:\n",
            "  python3-setuptools\n",
            "The following NEW packages will be installed:\n",
            "  libspatialindex-c4v5 libspatialindex-dev libspatialindex4v5\n",
            "  python3-pkg-resources python3-rtree\n",
            "0 upgraded, 5 newly installed, 0 to remove and 8 not upgraded.\n",
            "Need to get 671 kB of archives.\n",
            "After this operation, 3,948 kB of additional disk space will be used.\n",
            "Get:1 http://archive.ubuntu.com/ubuntu bionic/universe amd64 libspatialindex4v5 amd64 1.8.5-5 [219 kB]\n",
            "Get:2 http://archive.ubuntu.com/ubuntu bionic/universe amd64 libspatialindex-c4v5 amd64 1.8.5-5 [51.7 kB]\n",
            "Get:3 http://archive.ubuntu.com/ubuntu bionic/main amd64 python3-pkg-resources all 39.0.1-2 [98.8 kB]\n",
            "Get:4 http://archive.ubuntu.com/ubuntu bionic/universe amd64 libspatialindex-dev amd64 1.8.5-5 [285 kB]\n",
            "Get:5 http://archive.ubuntu.com/ubuntu bionic/universe amd64 python3-rtree all 0.8.3+ds-1 [16.9 kB]\n",
            "Fetched 671 kB in 2s (270 kB/s)\n",
            "Selecting previously unselected package libspatialindex4v5:amd64.\n",
            "(Reading database ... 131183 files and directories currently installed.)\n",
            "Preparing to unpack .../libspatialindex4v5_1.8.5-5_amd64.deb ...\n",
            "Unpacking libspatialindex4v5:amd64 (1.8.5-5) ...\n",
            "Selecting previously unselected package libspatialindex-c4v5:amd64.\n",
            "Preparing to unpack .../libspatialindex-c4v5_1.8.5-5_amd64.deb ...\n",
            "Unpacking libspatialindex-c4v5:amd64 (1.8.5-5) ...\n",
            "Selecting previously unselected package python3-pkg-resources.\n",
            "Preparing to unpack .../python3-pkg-resources_39.0.1-2_all.deb ...\n",
            "Unpacking python3-pkg-resources (39.0.1-2) ...\n",
            "Selecting previously unselected package libspatialindex-dev:amd64.\n",
            "Preparing to unpack .../libspatialindex-dev_1.8.5-5_amd64.deb ...\n",
            "Unpacking libspatialindex-dev:amd64 (1.8.5-5) ...\n",
            "Selecting previously unselected package python3-rtree.\n",
            "Preparing to unpack .../python3-rtree_0.8.3+ds-1_all.deb ...\n",
            "Unpacking python3-rtree (0.8.3+ds-1) ...\n",
            "Setting up libspatialindex4v5:amd64 (1.8.5-5) ...\n",
            "Setting up python3-pkg-resources (39.0.1-2) ...\n",
            "Setting up libspatialindex-c4v5:amd64 (1.8.5-5) ...\n",
            "Processing triggers for libc-bin (2.27-3ubuntu1) ...\n",
            "Setting up libspatialindex-dev:amd64 (1.8.5-5) ...\n",
            "Setting up python3-rtree (0.8.3+ds-1) ...\n",
            "Collecting geopandas\n",
            "\u001b[?25l  Downloading https://files.pythonhosted.org/packages/59/39/de0263d511d4fc35a640cf00d02e497eb60698315a22936bedbdd904d7f7/geopandas-0.6.1-py2.py3-none-any.whl (918kB)\n",
            "\u001b[K     |████████████████████████████████| 921kB 3.4MB/s \n",
            "\u001b[?25hCollecting pyproj (from geopandas)\n",
            "\u001b[?25l  Downloading https://files.pythonhosted.org/packages/7a/b1/ab67ad924770e1c1432fa0953a665b8ea193b60c7494457b69da052d6e83/pyproj-2.4.0-cp36-cp36m-manylinux1_x86_64.whl (10.1MB)\n",
            "\u001b[K     |████████████████████████████████| 10.1MB 42.3MB/s \n",
            "\u001b[?25hCollecting fiona (from geopandas)\n",
            "\u001b[?25l  Downloading https://files.pythonhosted.org/packages/1e/cf/a1f22d87223cb4f48beecf4de6eb59e5261a7d0d073489bbe7cfe6514ae3/Fiona-1.8.8-1-cp36-cp36m-manylinux1_x86_64.whl (11.9MB)\n",
            "\u001b[K     |████████████████████████████████| 11.9MB 33.7MB/s \n",
            "\u001b[?25hRequirement already satisfied: pandas>=0.23.0 in /usr/local/lib/python3.6/dist-packages (from geopandas) (0.24.2)\n",
            "Requirement already satisfied: shapely in /usr/local/lib/python3.6/dist-packages (from geopandas) (1.6.4.post2)\n",
            "Requirement already satisfied: attrs>=17 in /usr/local/lib/python3.6/dist-packages (from fiona->geopandas) (19.3.0)\n",
            "Collecting cligj>=0.5 (from fiona->geopandas)\n",
            "  Downloading https://files.pythonhosted.org/packages/e4/be/30a58b4b0733850280d01f8bd132591b4668ed5c7046761098d665ac2174/cligj-0.5.0-py3-none-any.whl\n",
            "Requirement already satisfied: six>=1.7 in /usr/local/lib/python3.6/dist-packages (from fiona->geopandas) (1.12.0)\n",
            "Collecting click-plugins>=1.0 (from fiona->geopandas)\n",
            "  Downloading https://files.pythonhosted.org/packages/e9/da/824b92d9942f4e472702488857914bdd50f73021efea15b4cad9aca8ecef/click_plugins-1.1.1-py2.py3-none-any.whl\n",
            "Requirement already satisfied: click<8,>=4.0 in /usr/local/lib/python3.6/dist-packages (from fiona->geopandas) (7.0)\n",
            "Collecting munch (from fiona->geopandas)\n",
            "  Downloading https://files.pythonhosted.org/packages/68/f4/260ec98ea840757a0da09e0ed8135333d59b8dfebe9752a365b04857660a/munch-2.3.2.tar.gz\n",
            "Requirement already satisfied: python-dateutil>=2.5.0 in /usr/local/lib/python3.6/dist-packages (from pandas>=0.23.0->geopandas) (2.5.3)\n",
            "Requirement already satisfied: numpy>=1.12.0 in /usr/local/lib/python3.6/dist-packages (from pandas>=0.23.0->geopandas) (1.16.5)\n",
            "Requirement already satisfied: pytz>=2011k in /usr/local/lib/python3.6/dist-packages (from pandas>=0.23.0->geopandas) (2018.9)\n",
            "Building wheels for collected packages: munch\n",
            "  Building wheel for munch (setup.py) ... \u001b[?25l\u001b[?25hdone\n",
            "  Created wheel for munch: filename=munch-2.3.2-py2.py3-none-any.whl size=6614 sha256=d6b85db627f73e84298f032afccfae518523a986cd1fc1811f7007c9c1cfaa1d\n",
            "  Stored in directory: /root/.cache/pip/wheels/db/bf/bc/06a3e1bfe0ab27d2e720ceb3cff3159398d92644c0cec2c125\n",
            "Successfully built munch\n",
            "Installing collected packages: pyproj, cligj, click-plugins, munch, fiona, geopandas\n",
            "Successfully installed click-plugins-1.1.1 cligj-0.5.0 fiona-1.8.8 geopandas-0.6.1 munch-2.3.2 pyproj-2.4.0\n",
            "Requirement already satisfied: descartes in /usr/local/lib/python3.6/dist-packages (1.1.0)\n",
            "Requirement already satisfied: matplotlib in /usr/local/lib/python3.6/dist-packages (from descartes) (3.0.3)\n",
            "Requirement already satisfied: kiwisolver>=1.0.1 in /usr/local/lib/python3.6/dist-packages (from matplotlib->descartes) (1.1.0)\n",
            "Requirement already satisfied: pyparsing!=2.0.4,!=2.1.2,!=2.1.6,>=2.0.1 in /usr/local/lib/python3.6/dist-packages (from matplotlib->descartes) (2.4.2)\n",
            "Requirement already satisfied: cycler>=0.10 in /usr/local/lib/python3.6/dist-packages (from matplotlib->descartes) (0.10.0)\n",
            "Requirement already satisfied: numpy>=1.10.0 in /usr/local/lib/python3.6/dist-packages (from matplotlib->descartes) (1.16.5)\n",
            "Requirement already satisfied: python-dateutil>=2.1 in /usr/local/lib/python3.6/dist-packages (from matplotlib->descartes) (2.5.3)\n",
            "Requirement already satisfied: setuptools in /usr/local/lib/python3.6/dist-packages (from kiwisolver>=1.0.1->matplotlib->descartes) (41.2.0)\n",
            "Requirement already satisfied: six in /usr/local/lib/python3.6/dist-packages (from cycler>=0.10->matplotlib->descartes) (1.12.0)\n",
            "CPU times: user 397 ms, sys: 104 ms, total: 502 ms\n",
            "Wall time: 30.1 s\n"
          ],
          "name": "stdout"
        }
      ]
    },
    {
      "cell_type": "markdown",
      "metadata": {
        "id": "kQp3Ware_RbY",
        "colab_type": "text"
      },
      "source": [
        "Now we import the libraries."
      ]
    },
    {
      "cell_type": "code",
      "metadata": {
        "colab_type": "code",
        "id": "7cJTt9P8VqcE",
        "colab": {}
      },
      "source": [
        "import pandas as pd\n",
        "import numpy as np\n",
        "import matplotlib.pyplot as plt\n",
        "import geopandas as gpd\n",
        "from shapely.geometry import Point, Polygon, MultiPolygon\n",
        "from google.colab import files"
      ],
      "execution_count": 0,
      "outputs": []
    },
    {
      "cell_type": "markdown",
      "metadata": {
        "id": "qHZU5lJU5tgZ",
        "colab_type": "text"
      },
      "source": [
        "# Loading data"
      ]
    },
    {
      "cell_type": "code",
      "metadata": {
        "id": "7hpL-MKL5tgg",
        "colab_type": "code",
        "outputId": "41be9228-aec9-4821-e7d1-693a2cf599da",
        "colab": {
          "base_uri": "https://localhost:8080/",
          "height": 244
        }
      },
      "source": [
        "fp = 'https://www.dropbox.com/s/6s162261bj0i1za/geographic.csv?dl=1'\n",
        "geographic = pd.read_csv(fp)\n",
        "geographic.head()"
      ],
      "execution_count": 5,
      "outputs": [
        {
          "output_type": "execute_result",
          "data": {
            "text/html": [
              "<div>\n",
              "<style scoped>\n",
              "    .dataframe tbody tr th:only-of-type {\n",
              "        vertical-align: middle;\n",
              "    }\n",
              "\n",
              "    .dataframe tbody tr th {\n",
              "        vertical-align: top;\n",
              "    }\n",
              "\n",
              "    .dataframe thead th {\n",
              "        text-align: right;\n",
              "    }\n",
              "</style>\n",
              "<table border=\"1\" class=\"dataframe\">\n",
              "  <thead>\n",
              "    <tr style=\"text-align: right;\">\n",
              "      <th></th>\n",
              "      <th>BK88</th>\n",
              "      <th>QN52</th>\n",
              "      <th>QN48</th>\n",
              "      <th>QN51</th>\n",
              "      <th>QN27</th>\n",
              "      <th>BX35</th>\n",
              "      <th>BX98</th>\n",
              "      <th>QN07</th>\n",
              "      <th>MN06</th>\n",
              "      <th>QN02</th>\n",
              "      <th>QN46</th>\n",
              "      <th>BK25</th>\n",
              "      <th>BX59</th>\n",
              "      <th>QN41</th>\n",
              "      <th>MN17</th>\n",
              "      <th>MN19</th>\n",
              "      <th>QN47</th>\n",
              "      <th>QN08</th>\n",
              "      <th>QN54</th>\n",
              "      <th>QN25</th>\n",
              "      <th>QN55</th>\n",
              "      <th>QN06</th>\n",
              "      <th>BK44</th>\n",
              "      <th>BK40</th>\n",
              "      <th>BK41</th>\n",
              "      <th>BK95</th>\n",
              "      <th>BX33</th>\n",
              "      <th>BK69</th>\n",
              "      <th>BX52</th>\n",
              "      <th>QN49</th>\n",
              "      <th>QN26</th>\n",
              "      <th>BK27</th>\n",
              "      <th>BK28</th>\n",
              "      <th>BK76</th>\n",
              "      <th>QN30</th>\n",
              "      <th>BK17</th>\n",
              "      <th>QN35</th>\n",
              "      <th>QN61</th>\n",
              "      <th>SI45</th>\n",
              "      <th>QN63</th>\n",
              "      <th>...</th>\n",
              "      <th>BX63</th>\n",
              "      <th>BX09</th>\n",
              "      <th>BX99</th>\n",
              "      <th>QN99</th>\n",
              "      <th>SI36</th>\n",
              "      <th>QN03</th>\n",
              "      <th>QN05</th>\n",
              "      <th>SI01</th>\n",
              "      <th>SI54</th>\n",
              "      <th>BK50</th>\n",
              "      <th>BK58</th>\n",
              "      <th>BK33</th>\n",
              "      <th>SI14</th>\n",
              "      <th>SI37</th>\n",
              "      <th>QN71</th>\n",
              "      <th>BK32</th>\n",
              "      <th>BK37</th>\n",
              "      <th>QN37</th>\n",
              "      <th>QN38</th>\n",
              "      <th>QN21</th>\n",
              "      <th>BK09</th>\n",
              "      <th>BK38</th>\n",
              "      <th>BK82</th>\n",
              "      <th>BK83</th>\n",
              "      <th>SI11</th>\n",
              "      <th>SI05</th>\n",
              "      <th>SI32</th>\n",
              "      <th>BK31</th>\n",
              "      <th>BK99</th>\n",
              "      <th>SI99</th>\n",
              "      <th>MN25</th>\n",
              "      <th>MN24</th>\n",
              "      <th>MN23</th>\n",
              "      <th>MN13</th>\n",
              "      <th>MN15</th>\n",
              "      <th>MN32</th>\n",
              "      <th>MN33</th>\n",
              "      <th>MN99</th>\n",
              "      <th>QN18</th>\n",
              "      <th>QN29</th>\n",
              "    </tr>\n",
              "  </thead>\n",
              "  <tbody>\n",
              "    <tr>\n",
              "      <th>0</th>\n",
              "      <td>-73.976051</td>\n",
              "      <td>-73.794934</td>\n",
              "      <td>-73.775740</td>\n",
              "      <td>-73.803792</td>\n",
              "      <td>-73.861099</td>\n",
              "      <td>-73.896967</td>\n",
              "      <td>-73.872873</td>\n",
              "      <td>-73.757258</td>\n",
              "      <td>-73.946080</td>\n",
              "      <td>-73.760316</td>\n",
              "      <td>-73.767796</td>\n",
              "      <td>-73.958594</td>\n",
              "      <td>-73.839369</td>\n",
              "      <td>-73.777576</td>\n",
              "      <td>-73.973016</td>\n",
              "      <td>-73.961631</td>\n",
              "      <td>-73.767796</td>\n",
              "      <td>-73.752052</td>\n",
              "      <td>-73.816380</td>\n",
              "      <td>-73.857349</td>\n",
              "      <td>-73.805770</td>\n",
              "      <td>-73.756705</td>\n",
              "      <td>-73.937539</td>\n",
              "      <td>-73.980173</td>\n",
              "      <td>-73.970843</td>\n",
              "      <td>-73.948266</td>\n",
              "      <td>-73.894837</td>\n",
              "      <td>-73.953372</td>\n",
              "      <td>-73.839796</td>\n",
              "      <td>-73.791794</td>\n",
              "      <td>-73.854497</td>\n",
              "      <td>-74.002005</td>\n",
              "      <td>-73.979640</td>\n",
              "      <td>-73.932135</td>\n",
              "      <td>-73.888524</td>\n",
              "      <td>-73.918094</td>\n",
              "      <td>-73.793039</td>\n",
              "      <td>-73.768447</td>\n",
              "      <td>-74.084692</td>\n",
              "      <td>-73.898663</td>\n",
              "      <td>...</td>\n",
              "      <td>-73.911920</td>\n",
              "      <td>-73.880547</td>\n",
              "      <td>-73.869559</td>\n",
              "      <td>-73.865227</td>\n",
              "      <td>-74.065035</td>\n",
              "      <td>-73.757633</td>\n",
              "      <td>-73.725864</td>\n",
              "      <td>-74.221724</td>\n",
              "      <td>-74.144389</td>\n",
              "      <td>-73.888341</td>\n",
              "      <td>-73.918604</td>\n",
              "      <td>-73.992365</td>\n",
              "      <td>-74.081556</td>\n",
              "      <td>-74.072583</td>\n",
              "      <td>-73.928279</td>\n",
              "      <td>-73.987252</td>\n",
              "      <td>-73.973762</td>\n",
              "      <td>-73.814973</td>\n",
              "      <td>-73.796404</td>\n",
              "      <td>-73.859656</td>\n",
              "      <td>-73.992365</td>\n",
              "      <td>-73.979059</td>\n",
              "      <td>-73.861145</td>\n",
              "      <td>-73.863351</td>\n",
              "      <td>-74.207000</td>\n",
              "      <td>-74.195561</td>\n",
              "      <td>-74.203150</td>\n",
              "      <td>-74.032667</td>\n",
              "      <td>-73.915135</td>\n",
              "      <td>-74.118136</td>\n",
              "      <td>-74.000784</td>\n",
              "      <td>-73.992605</td>\n",
              "      <td>-73.989904</td>\n",
              "      <td>-74.001535</td>\n",
              "      <td>-73.993833</td>\n",
              "      <td>-73.938048</td>\n",
              "      <td>-73.935054</td>\n",
              "      <td>-74.010930</td>\n",
              "      <td>-73.858726</td>\n",
              "      <td>-73.867911</td>\n",
              "    </tr>\n",
              "    <tr>\n",
              "      <th>1</th>\n",
              "      <td>40.631284</td>\n",
              "      <td>40.757806</td>\n",
              "      <td>40.743334</td>\n",
              "      <td>40.775618</td>\n",
              "      <td>40.763673</td>\n",
              "      <td>40.834350</td>\n",
              "      <td>40.785983</td>\n",
              "      <td>40.718147</td>\n",
              "      <td>40.821271</td>\n",
              "      <td>40.675118</td>\n",
              "      <td>40.778754</td>\n",
              "      <td>40.610411</td>\n",
              "      <td>40.840891</td>\n",
              "      <td>40.730202</td>\n",
              "      <td>40.764287</td>\n",
              "      <td>40.755161</td>\n",
              "      <td>40.778754</td>\n",
              "      <td>40.705236</td>\n",
              "      <td>40.702460</td>\n",
              "      <td>40.747980</td>\n",
              "      <td>40.682941</td>\n",
              "      <td>40.726238</td>\n",
              "      <td>40.608566</td>\n",
              "      <td>40.661163</td>\n",
              "      <td>40.646387</td>\n",
              "      <td>40.638615</td>\n",
              "      <td>40.826255</td>\n",
              "      <td>40.680649</td>\n",
              "      <td>40.835627</td>\n",
              "      <td>40.789360</td>\n",
              "      <td>40.758287</td>\n",
              "      <td>40.594141</td>\n",
              "      <td>40.615573</td>\n",
              "      <td>40.728168</td>\n",
              "      <td>40.734539</td>\n",
              "      <td>40.586579</td>\n",
              "      <td>40.710719</td>\n",
              "      <td>40.709645</td>\n",
              "      <td>40.571486</td>\n",
              "      <td>40.759929</td>\n",
              "      <td>...</td>\n",
              "      <td>40.843266</td>\n",
              "      <td>40.818476</td>\n",
              "      <td>40.816168</td>\n",
              "      <td>40.570467</td>\n",
              "      <td>40.588999</td>\n",
              "      <td>40.666459</td>\n",
              "      <td>40.683249</td>\n",
              "      <td>40.502541</td>\n",
              "      <td>40.569714</td>\n",
              "      <td>40.646718</td>\n",
              "      <td>40.632077</td>\n",
              "      <td>40.689698</td>\n",
              "      <td>40.606299</td>\n",
              "      <td>40.637950</td>\n",
              "      <td>40.776907</td>\n",
              "      <td>40.660387</td>\n",
              "      <td>40.683058</td>\n",
              "      <td>40.738569</td>\n",
              "      <td>40.738291</td>\n",
              "      <td>40.713388</td>\n",
              "      <td>40.689698</td>\n",
              "      <td>40.705961</td>\n",
              "      <td>40.674338</td>\n",
              "      <td>40.679360</td>\n",
              "      <td>40.557576</td>\n",
              "      <td>40.635032</td>\n",
              "      <td>40.556070</td>\n",
              "      <td>40.643729</td>\n",
              "      <td>40.586278</td>\n",
              "      <td>40.550601</td>\n",
              "      <td>40.694295</td>\n",
              "      <td>40.724145</td>\n",
              "      <td>40.734443</td>\n",
              "      <td>40.762653</td>\n",
              "      <td>40.772940</td>\n",
              "      <td>40.780838</td>\n",
              "      <td>40.791695</td>\n",
              "      <td>40.684500</td>\n",
              "      <td>40.735717</td>\n",
              "      <td>40.744942</td>\n",
              "    </tr>\n",
              "    <tr>\n",
              "      <th>2</th>\n",
              "      <td>-73.977167</td>\n",
              "      <td>-73.794749</td>\n",
              "      <td>-73.775799</td>\n",
              "      <td>-73.800991</td>\n",
              "      <td>-73.859931</td>\n",
              "      <td>-73.896787</td>\n",
              "      <td>-73.872886</td>\n",
              "      <td>-73.755890</td>\n",
              "      <td>-73.946404</td>\n",
              "      <td>-73.758806</td>\n",
              "      <td>-73.767606</td>\n",
              "      <td>-73.958282</td>\n",
              "      <td>-73.839568</td>\n",
              "      <td>-73.778488</td>\n",
              "      <td>-73.971413</td>\n",
              "      <td>-73.962137</td>\n",
              "      <td>-73.767962</td>\n",
              "      <td>-73.751746</td>\n",
              "      <td>-73.816140</td>\n",
              "      <td>-73.854427</td>\n",
              "      <td>-73.805519</td>\n",
              "      <td>-73.756711</td>\n",
              "      <td>-73.938298</td>\n",
              "      <td>-73.980208</td>\n",
              "      <td>-73.970771</td>\n",
              "      <td>-73.949234</td>\n",
              "      <td>-73.894872</td>\n",
              "      <td>-73.953283</td>\n",
              "      <td>-73.839675</td>\n",
              "      <td>-73.791565</td>\n",
              "      <td>-73.854210</td>\n",
              "      <td>-74.002193</td>\n",
              "      <td>-73.980222</td>\n",
              "      <td>-73.932530</td>\n",
              "      <td>-73.888481</td>\n",
              "      <td>-73.918127</td>\n",
              "      <td>-73.793897</td>\n",
              "      <td>-73.769187</td>\n",
              "      <td>-74.085954</td>\n",
              "      <td>-73.899062</td>\n",
              "      <td>...</td>\n",
              "      <td>-73.911948</td>\n",
              "      <td>-73.880982</td>\n",
              "      <td>-73.869546</td>\n",
              "      <td>-73.864543</td>\n",
              "      <td>-74.065035</td>\n",
              "      <td>-73.757566</td>\n",
              "      <td>-73.725908</td>\n",
              "      <td>-74.221784</td>\n",
              "      <td>-74.142875</td>\n",
              "      <td>-73.888354</td>\n",
              "      <td>-73.918356</td>\n",
              "      <td>-73.992624</td>\n",
              "      <td>-74.077782</td>\n",
              "      <td>-74.072574</td>\n",
              "      <td>-73.927823</td>\n",
              "      <td>-73.987312</td>\n",
              "      <td>-73.973754</td>\n",
              "      <td>-73.814841</td>\n",
              "      <td>-73.796391</td>\n",
              "      <td>-73.859787</td>\n",
              "      <td>-73.994362</td>\n",
              "      <td>-73.979062</td>\n",
              "      <td>-73.861073</td>\n",
              "      <td>-73.863311</td>\n",
              "      <td>-74.208805</td>\n",
              "      <td>-74.192491</td>\n",
              "      <td>-74.203182</td>\n",
              "      <td>-74.032608</td>\n",
              "      <td>-73.915099</td>\n",
              "      <td>-74.116564</td>\n",
              "      <td>-74.000960</td>\n",
              "      <td>-73.992634</td>\n",
              "      <td>-73.989870</td>\n",
              "      <td>-74.001339</td>\n",
              "      <td>-73.993789</td>\n",
              "      <td>-73.937903</td>\n",
              "      <td>-73.935108</td>\n",
              "      <td>-74.011934</td>\n",
              "      <td>-73.858672</td>\n",
              "      <td>-73.867877</td>\n",
              "    </tr>\n",
              "    <tr>\n",
              "      <th>3</th>\n",
              "      <td>40.630755</td>\n",
              "      <td>40.755636</td>\n",
              "      <td>40.743326</td>\n",
              "      <td>40.775397</td>\n",
              "      <td>40.762209</td>\n",
              "      <td>40.834133</td>\n",
              "      <td>40.785971</td>\n",
              "      <td>40.716307</td>\n",
              "      <td>40.820580</td>\n",
              "      <td>40.673014</td>\n",
              "      <td>40.778307</td>\n",
              "      <td>40.608756</td>\n",
              "      <td>40.840556</td>\n",
              "      <td>40.729952</td>\n",
              "      <td>40.763596</td>\n",
              "      <td>40.754581</td>\n",
              "      <td>40.778784</td>\n",
              "      <td>40.704554</td>\n",
              "      <td>40.701946</td>\n",
              "      <td>40.748860</td>\n",
              "      <td>40.682416</td>\n",
              "      <td>40.726187</td>\n",
              "      <td>40.608071</td>\n",
              "      <td>40.661114</td>\n",
              "      <td>40.646119</td>\n",
              "      <td>40.638556</td>\n",
              "      <td>40.823946</td>\n",
              "      <td>40.680208</td>\n",
              "      <td>40.835609</td>\n",
              "      <td>40.789111</td>\n",
              "      <td>40.757876</td>\n",
              "      <td>40.594365</td>\n",
              "      <td>40.615013</td>\n",
              "      <td>40.727900</td>\n",
              "      <td>40.734166</td>\n",
              "      <td>40.586516</td>\n",
              "      <td>40.710361</td>\n",
              "      <td>40.709345</td>\n",
              "      <td>40.570306</td>\n",
              "      <td>40.759336</td>\n",
              "      <td>...</td>\n",
              "      <td>40.843184</td>\n",
              "      <td>40.818244</td>\n",
              "      <td>40.816103</td>\n",
              "      <td>40.569251</td>\n",
              "      <td>40.588918</td>\n",
              "      <td>40.666457</td>\n",
              "      <td>40.682665</td>\n",
              "      <td>40.502542</td>\n",
              "      <td>40.569090</td>\n",
              "      <td>40.646716</td>\n",
              "      <td>40.629804</td>\n",
              "      <td>40.689169</td>\n",
              "      <td>40.606179</td>\n",
              "      <td>40.637880</td>\n",
              "      <td>40.776706</td>\n",
              "      <td>40.660338</td>\n",
              "      <td>40.682998</td>\n",
              "      <td>40.737923</td>\n",
              "      <td>40.738242</td>\n",
              "      <td>40.713320</td>\n",
              "      <td>40.690248</td>\n",
              "      <td>40.705954</td>\n",
              "      <td>40.674028</td>\n",
              "      <td>40.679176</td>\n",
              "      <td>40.557317</td>\n",
              "      <td>40.633411</td>\n",
              "      <td>40.556000</td>\n",
              "      <td>40.643707</td>\n",
              "      <td>40.586275</td>\n",
              "      <td>40.549136</td>\n",
              "      <td>40.694077</td>\n",
              "      <td>40.724065</td>\n",
              "      <td>40.733535</td>\n",
              "      <td>40.762217</td>\n",
              "      <td>40.772912</td>\n",
              "      <td>40.780758</td>\n",
              "      <td>40.791658</td>\n",
              "      <td>40.683896</td>\n",
              "      <td>40.735627</td>\n",
              "      <td>40.744824</td>\n",
              "    </tr>\n",
              "    <tr>\n",
              "      <th>4</th>\n",
              "      <td>-73.977000</td>\n",
              "      <td>-73.794579</td>\n",
              "      <td>-73.778060</td>\n",
              "      <td>-73.798653</td>\n",
              "      <td>-73.859668</td>\n",
              "      <td>-73.896303</td>\n",
              "      <td>-73.872983</td>\n",
              "      <td>-73.754702</td>\n",
              "      <td>-73.946720</td>\n",
              "      <td>-73.758598</td>\n",
              "      <td>-73.767620</td>\n",
              "      <td>-73.957725</td>\n",
              "      <td>-73.839722</td>\n",
              "      <td>-73.779367</td>\n",
              "      <td>-73.969906</td>\n",
              "      <td>-73.962195</td>\n",
              "      <td>-73.768035</td>\n",
              "      <td>-73.751438</td>\n",
              "      <td>-73.815938</td>\n",
              "      <td>-73.854371</td>\n",
              "      <td>-73.805228</td>\n",
              "      <td>-73.756033</td>\n",
              "      <td>-73.939014</td>\n",
              "      <td>-73.980208</td>\n",
              "      <td>-73.970547</td>\n",
              "      <td>-73.950175</td>\n",
              "      <td>-73.893898</td>\n",
              "      <td>-73.954370</td>\n",
              "      <td>-73.839616</td>\n",
              "      <td>-73.791339</td>\n",
              "      <td>-73.854078</td>\n",
              "      <td>-74.002304</td>\n",
              "      <td>-73.980806</td>\n",
              "      <td>-73.934125</td>\n",
              "      <td>-73.888445</td>\n",
              "      <td>-73.918057</td>\n",
              "      <td>-73.794732</td>\n",
              "      <td>-73.770937</td>\n",
              "      <td>-74.086550</td>\n",
              "      <td>-73.899412</td>\n",
              "      <td>...</td>\n",
              "      <td>-73.911988</td>\n",
              "      <td>-73.882449</td>\n",
              "      <td>-73.868897</td>\n",
              "      <td>-73.864133</td>\n",
              "      <td>-74.064543</td>\n",
              "      <td>-73.756023</td>\n",
              "      <td>-73.725825</td>\n",
              "      <td>-74.221843</td>\n",
              "      <td>-74.141521</td>\n",
              "      <td>-73.888375</td>\n",
              "      <td>-73.918244</td>\n",
              "      <td>-73.992687</td>\n",
              "      <td>-74.077148</td>\n",
              "      <td>-74.073485</td>\n",
              "      <td>-73.927378</td>\n",
              "      <td>-73.987451</td>\n",
              "      <td>-73.973742</td>\n",
              "      <td>-73.814695</td>\n",
              "      <td>-73.796362</td>\n",
              "      <td>-73.862080</td>\n",
              "      <td>-73.996234</td>\n",
              "      <td>-73.979245</td>\n",
              "      <td>-73.860777</td>\n",
              "      <td>-73.863288</td>\n",
              "      <td>-74.210509</td>\n",
              "      <td>-74.192160</td>\n",
              "      <td>-74.203209</td>\n",
              "      <td>-74.029057</td>\n",
              "      <td>-73.915057</td>\n",
              "      <td>-74.114944</td>\n",
              "      <td>-74.003015</td>\n",
              "      <td>-73.993093</td>\n",
              "      <td>-73.990028</td>\n",
              "      <td>-74.001279</td>\n",
              "      <td>-73.993727</td>\n",
              "      <td>-73.937796</td>\n",
              "      <td>-73.935173</td>\n",
              "      <td>-74.012177</td>\n",
              "      <td>-73.858585</td>\n",
              "      <td>-73.867852</td>\n",
              "    </tr>\n",
              "  </tbody>\n",
              "</table>\n",
              "<p>5 rows × 195 columns</p>\n",
              "</div>"
            ],
            "text/plain": [
              "        BK88       QN52       QN48  ...       MN99       QN18       QN29\n",
              "0 -73.976051 -73.794934 -73.775740  ... -74.010930 -73.858726 -73.867911\n",
              "1  40.631284  40.757806  40.743334  ...  40.684500  40.735717  40.744942\n",
              "2 -73.977167 -73.794749 -73.775799  ... -74.011934 -73.858672 -73.867877\n",
              "3  40.630755  40.755636  40.743326  ...  40.683896  40.735627  40.744824\n",
              "4 -73.977000 -73.794579 -73.778060  ... -74.012177 -73.858585 -73.867852\n",
              "\n",
              "[5 rows x 195 columns]"
            ]
          },
          "metadata": {
            "tags": []
          },
          "execution_count": 5
        }
      ]
    },
    {
      "cell_type": "markdown",
      "metadata": {
        "id": "8M98StRP5tg0",
        "colab_type": "text"
      },
      "source": [
        "# Functions"
      ]
    },
    {
      "cell_type": "markdown",
      "metadata": {
        "id": "Qf4j2QS65tg3",
        "colab_type": "text"
      },
      "source": [
        "Function to find the polygon vertices for each column"
      ]
    },
    {
      "cell_type": "code",
      "metadata": {
        "id": "PCMI5tj35tg9",
        "colab_type": "code",
        "colab": {}
      },
      "source": [
        "def classify_lat_long(number):\n",
        "    if number % 2 == 0:\n",
        "        result = 'longitude'\n",
        "    else:\n",
        "        result = 'latitude'\n",
        "    \n",
        "    return result\n",
        "\n",
        "def create_points_ids(test):\n",
        "    id_point = []\n",
        "    \n",
        "    for i in range(len(test)):\n",
        "        id_point.append(i)\n",
        "        id_point.append(i)\n",
        "    \n",
        "    id_point = pd.Series(id_point)\n",
        "        \n",
        "    return id_point\n",
        "\n",
        "def find_polygon_vertices_series(nta, nta_code):\n",
        "    nta = pd.DataFrame(nta)\n",
        "    nta = nta.dropna()\n",
        "    long_lat = pd.Series(nta.index).apply(classify_lat_long)\n",
        "    nta['long_lat'] = long_lat\n",
        "    nta['id_points'] = create_points_ids(nta)\n",
        "    result_df = nta.set_index('id_points').pivot(columns='long_lat')\n",
        "    result_df['nta_code'] = nta_code\n",
        "    result_df.columns = result_df.columns.droplevel(0)\n",
        "    return result_df\n",
        "    \n",
        "\n",
        "def find_polygon_vertices_dataframe(geographic):\n",
        "    columns_df = list(geographic.columns)\n",
        "    \n",
        "    result_df = pd.DataFrame()\n",
        "    \n",
        "    for i in columns_df:\n",
        "        nta = geographic[i]\n",
        "        result_intermediate_df = find_polygon_vertices_series(nta, i)\n",
        "        #print(result_intermediate_df)\n",
        "        result_df = pd.concat([result_df, result_intermediate_df], axis=0).dropna()\n",
        "        \n",
        "    #print(result_df.columns)\n",
        "    result_df.columns = ['latitude', 'longitude', 'nta']\n",
        "    return result_df   \n",
        "\n",
        "def create_polygons(geographic):\n",
        "    data = find_polygon_vertices_dataframe(geographic)    \n",
        "    data['points'] = data.loc[:, ['latitude', 'longitude']].apply(list, axis=1)\n",
        "    nta_geo = data.groupby('nta')['points'].apply(list)\n",
        "    nta_geo = pd.DataFrame(nta_geo)\n",
        "    nta_geo['polygon_geom'] = nta_geo['points'].apply(lambda row: Polygon(row))\n",
        "    nta_geo = nta_geo.drop(columns=['points'])\n",
        "    # https://stackoverflow.com/questions/39104710/geopandas-dataframe-points-to-polygons\n",
        "    crs = {'init': 'epsg:4326'}\n",
        "    polygon = gpd.GeoDataFrame(nta_geo, crs=crs, geometry='polygon_geom')\n",
        "    return polygon "
      ],
      "execution_count": 0,
      "outputs": []
    },
    {
      "cell_type": "markdown",
      "metadata": {
        "id": "tf6OoVmd7ztr",
        "colab_type": "text"
      },
      "source": [
        "# Creating the polygons"
      ]
    },
    {
      "cell_type": "code",
      "metadata": {
        "colab_type": "code",
        "id": "g7iUSxf-yqew",
        "colab": {}
      },
      "source": [
        "nta_geo = create_polygons(geographic)"
      ],
      "execution_count": 0,
      "outputs": []
    },
    {
      "cell_type": "code",
      "metadata": {
        "id": "SzYfCAMhDJnk",
        "colab_type": "code",
        "colab": {}
      },
      "source": [
        "nta_centroids = nta_geo['polygon_geom'].centroid"
      ],
      "execution_count": 0,
      "outputs": []
    },
    {
      "cell_type": "code",
      "metadata": {
        "id": "3-KlP-lEE-3q",
        "colab_type": "code",
        "colab": {
          "base_uri": "https://localhost:8080/",
          "height": 269
        },
        "outputId": "42dd95db-c493-4d78-87ef-993925842e46"
      },
      "source": [
        "nta_centroids.plot()\n",
        "nta_centroids.to_file(\"nta_centroids.json\", driver=\"GeoJSON\")\n",
        "files.download('nta_centroids.json')"
      ],
      "execution_count": 40,
      "outputs": [
        {
          "output_type": "display_data",
          "data": {
            "image/png": "[encoded data removed]",
            "text/plain": [
              "<Figure size 432x288 with 1 Axes>"
            ]
          },
          "metadata": {
            "tags": []
          }
        }
      ]
    },
    {
      "cell_type": "code",
      "metadata": {
        "id": "uomLdBUUkSWe",
        "colab_type": "code",
        "colab": {}
      },
      "source": [
        "nta_geo.to_file(\"nta_geo.json\", driver=\"GeoJSON\")\n",
        "files.download('nta_geo.json')"
      ],
      "execution_count": 0,
      "outputs": []
    },
    {
      "cell_type": "markdown",
      "metadata": {
        "id": "oDu5havPuTVj",
        "colab_type": "text"
      },
      "source": [
        "# Assigning pickup and dropoff coordinates to ntas\n",
        "\n",
        "First, let's define some functions"
      ]
    },
    {
      "cell_type": "code",
      "metadata": {
        "id": "iS-9aog98Mmx",
        "colab_type": "code",
        "colab": {}
      },
      "source": [
        "def find_pickup_points(data):\n",
        "    crs = {'init': 'epsg:4326'}\n",
        "    data_gpd = gpd.GeoDataFrame(data, crs=crs, geometry=gpd.points_from_xy(data.pickup_latitude, data.pickup_longitude))\n",
        "    data_gpd = data_gpd.rename(columns={'geometry': 'pickup_point'}).set_geometry('pickup_point')\n",
        "    return data_gpd\n",
        "\n",
        "def find_dropoff_points(data):\n",
        "    crs = {'init': 'epsg:4326'}\n",
        "    data_gpd = gpd.GeoDataFrame(data, crs=crs, geometry=gpd.points_from_xy(data.dropoff_latitude, data.dropoff_longitude))\n",
        "    data_gpd = data_gpd.rename(columns={'geometry': 'dropoff_point'}).set_geometry('dropoff_point')\n",
        "    return data_gpd\n",
        "\n",
        "def find_pickup_and_or_dropoff_nta(data, nta_geo, uber):\n",
        "    if uber is True:\n",
        "        data_gpd = find_pickup_points(data)\n",
        "        data_gpd = gpd.sjoin(data_gpd, nta_geo, how='left')\n",
        "        data_gpd = data_gpd.rename(columns={'index_right': 'pickup_nta'})\n",
        "        print('I have found the pickup ntas')\n",
        "\n",
        "        return data_gpd\n",
        "    \n",
        "    else:\n",
        "        data_gpd = find_pickup_points(data)\n",
        "        data_gpd = gpd.sjoin(data_gpd, nta_geo)\n",
        "        data_gpd = data_gpd.rename(columns={'index_right': 'pickup_nta'})\n",
        "        print('I have found the pickup ntas, len(data_gpd))\n",
        "\n",
        "        data_gpd = find_dropoff_points(data_gpd)\n",
        "        data_gpd = gpd.sjoin(data_gpd, nta_geo, how='left')\n",
        "        data_gpd = data_gpd.rename(columns={'index_right': 'dropoff_nta'})\n",
        "        print('I have found the dropoff ntas', len(data_gpd))\n",
        "\n",
        "        return data_gpd"
      ],
      "execution_count": 0,
      "outputs": []
    },
    {
      "cell_type": "markdown",
      "metadata": {
        "id": "FbQ8UL2ebVMi",
        "colab_type": "text"
      },
      "source": [
        "Now let's find the NTA for the pickup and dropoff points of our three datasets."
      ]
    },
    {
      "cell_type": "code",
      "metadata": {
        "id": "NqrjDHgtEsMN",
        "colab_type": "code",
        "outputId": "8db3eb39-d4c0-48b6-91c8-08063f3a1b83",
        "colab": {
          "base_uri": "https://localhost:8080/",
          "height": 87
        }
      },
      "source": [
        "%%time\n",
        "url = 'https://www.dropbox.com/s/z1a8igph8cwpmcx/green_trips.csv.gz?dl=1'\n",
        "green_trips = pd.read_csv(url, compression='gzip')\n",
        "\n",
        "green_trips = find_pickup_and_or_dropoff_nta(green_trips, nta_geo, uber=False)"
      ],
      "execution_count": 0,
      "outputs": [
        {
          "output_type": "stream",
          "text": [
            "I have found the pickup nta 3491499\n",
            "I have found the dropoff nta 3491499\n",
            "CPU times: user 8min 48s, sys: 8.82 s, total: 8min 56s\n",
            "Wall time: 9min 1s\n"
          ],
          "name": "stdout"
        }
      ]
    },
    {
      "cell_type": "code",
      "metadata": {
        "id": "nqyK4eEBLQJ_",
        "colab_type": "code",
        "colab": {}
      },
      "source": [
        "green_trips.to_csv('green_trips_nta.csv.gz')"
      ],
      "execution_count": 0,
      "outputs": []
    },
    {
      "cell_type": "code",
      "metadata": {
        "id": "rwP7uppwGlwI",
        "colab_type": "code",
        "outputId": "41ceab0b-a6a1-464e-841b-681f32cc5a7a",
        "colab": {
          "base_uri": "https://localhost:8080/",
          "height": 87
        }
      },
      "source": [
        "%%time\n",
        "url = 'https://www.dropbox.com/s/3itjm0thz0m3031/yellow_trips.csv.gz?dl=1'\n",
        "yellow_trips = pd.read_csv(url, compression='gzip')\n",
        "\n",
        "yellow_trips = find_pickup_and_or_dropoff_nta(yellow_trips, nta_geo, uber=False)"
      ],
      "execution_count": 0,
      "outputs": [
        {
          "output_type": "stream",
          "text": [
            "I have found the pickup nta 6555437\n",
            "I have found the dropoff nta 6555437\n",
            "CPU times: user 17min 51s, sys: 22.3 s, total: 18min 14s\n",
            "Wall time: 18min 20s\n"
          ],
          "name": "stdout"
        }
      ]
    },
    {
      "cell_type": "code",
      "metadata": {
        "id": "wJOiHfRAa5bS",
        "colab_type": "code",
        "colab": {}
      },
      "source": [
        "yellow_trips.to_csv('yellow_trips_nta.csv.gz')"
      ],
      "execution_count": 0,
      "outputs": []
    },
    {
      "cell_type": "code",
      "metadata": {
        "id": "gkENLGLzpZe4",
        "colab_type": "code",
        "outputId": "68ec72f9-2859-40b8-c7b3-4924e7add397",
        "colab": {
          "base_uri": "https://localhost:8080/",
          "height": 70
        }
      },
      "source": [
        "%%time\n",
        "url = 'https://www.dropbox.com/s/b09qj0x8749pu36/uber_trips_2014.csv.gz?dl=1'\n",
        "uber_trips_2014 = pd.read_csv(url, compression='gzip')\n",
        "\n",
        "uber_trips_2014 = find_pickup_and_or_dropoff_nta(uber_trips_2014, nta_geo, uber=True)"
      ],
      "execution_count": 0,
      "outputs": [
        {
          "output_type": "stream",
          "text": [
            "I have found the pickup nta\n",
            "CPU times: user 5min 16s, sys: 6.23 s, total: 5min 22s\n",
            "Wall time: 5min 24s\n"
          ],
          "name": "stdout"
        }
      ]
    },
    {
      "cell_type": "code",
      "metadata": {
        "id": "V4SN0YlSa8ys",
        "colab_type": "code",
        "colab": {}
      },
      "source": [
        "uber_trips_2014.to_csv('uber_trips_2014_nta.csv.gz')"
      ],
      "execution_count": 0,
      "outputs": []
    },
    {
      "cell_type": "markdown",
      "metadata": {
        "id": "7aU8j1JIc5SY",
        "colab_type": "text"
      },
      "source": [
        "Downloading the merged datasets"
      ]
    },
    {
      "cell_type": "code",
      "metadata": {
        "id": "L5hDV6j-eWCx",
        "colab_type": "code",
        "colab": {}
      },
      "source": [
        "files.download(('green_trips_nta.csv.gz'))"
      ],
      "execution_count": 0,
      "outputs": []
    },
    {
      "cell_type": "code",
      "metadata": {
        "id": "pppeZc1rjBwM",
        "colab_type": "code",
        "colab": {}
      },
      "source": [
        "files.download(('yellow_trips_nta.csv.gz'))"
      ],
      "execution_count": 0,
      "outputs": []
    },
    {
      "cell_type": "code",
      "metadata": {
        "id": "KZelImtlc7fO",
        "colab_type": "code",
        "colab": {}
      },
      "source": [
        "files.download(('uber_trips_2014_nta.csv.gz'))"
      ],
      "execution_count": 0,
      "outputs": []
    }
  ]
}