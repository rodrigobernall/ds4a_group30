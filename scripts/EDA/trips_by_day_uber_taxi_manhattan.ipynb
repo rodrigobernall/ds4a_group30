{
 "cells": [
  {
   "cell_type": "code",
   "execution_count": 1,
   "metadata": {},
   "outputs": [],
   "source": [
    "import pandas as pd\n",
    "import os\n",
    "import numpy as np\n",
    "import datetime\n",
    "import matplotlib.pyplot as plt\n",
    "#import geopandas as gpd\n",
    "import shapely as shp\n",
    "#import descartes\n",
    "#from shapely.geometry import Point, Polygon\n",
    "import matplotlib.dates as mdates\n",
    "%matplotlib inline\n",
    "import seaborn as sns\n",
    "from pandas.plotting import register_matplotlib_converters\n",
    "register_matplotlib_converters()"
   ]
  },
  {
   "cell_type": "code",
   "execution_count": 2,
   "metadata": {},
   "outputs": [],
   "source": [
    "url = 'https://www.dropbox.com/s/za6yp2mz6p560o1/uber_trips_2014_nta.csv.gz?dl=1'\n",
    "uber_trips_2014_nta=pd.read_csv(url, compression='gzip')"
   ]
  },
  {
   "cell_type": "code",
   "execution_count": 3,
   "metadata": {
    "scrolled": true
   },
   "outputs": [
    {
     "data": {
      "text/html": [
       "<div>\n",
       "<style scoped>\n",
       "    .dataframe tbody tr th:only-of-type {\n",
       "        vertical-align: middle;\n",
       "    }\n",
       "\n",
       "    .dataframe tbody tr th {\n",
       "        vertical-align: top;\n",
       "    }\n",
       "\n",
       "    .dataframe thead th {\n",
       "        text-align: right;\n",
       "    }\n",
       "</style>\n",
       "<table border=\"1\" class=\"dataframe\">\n",
       "  <thead>\n",
       "    <tr style=\"text-align: right;\">\n",
       "      <th></th>\n",
       "      <th>Unnamed: 0</th>\n",
       "      <th>pickup_datetime</th>\n",
       "      <th>pickup_latitude</th>\n",
       "      <th>pickup_longitude</th>\n",
       "      <th>base</th>\n",
       "      <th>pickup_point</th>\n",
       "      <th>pickup_nta</th>\n",
       "    </tr>\n",
       "  </thead>\n",
       "  <tbody>\n",
       "    <tr>\n",
       "      <td>0</td>\n",
       "      <td>0</td>\n",
       "      <td>4/1/14 0:11</td>\n",
       "      <td>40.7690</td>\n",
       "      <td>-73.9549</td>\n",
       "      <td>B02512</td>\n",
       "      <td>POINT (40.769 -73.95489999999999)</td>\n",
       "      <td>NaN</td>\n",
       "    </tr>\n",
       "    <tr>\n",
       "      <td>1</td>\n",
       "      <td>1</td>\n",
       "      <td>4/1/14 0:17</td>\n",
       "      <td>40.7267</td>\n",
       "      <td>-74.0345</td>\n",
       "      <td>B02512</td>\n",
       "      <td>POINT (40.7267 -74.03449999999999)</td>\n",
       "      <td>NaN</td>\n",
       "    </tr>\n",
       "    <tr>\n",
       "      <td>2</td>\n",
       "      <td>2</td>\n",
       "      <td>4/1/14 0:21</td>\n",
       "      <td>40.7316</td>\n",
       "      <td>-73.9873</td>\n",
       "      <td>B02512</td>\n",
       "      <td>POINT (40.7316 -73.9873)</td>\n",
       "      <td>MN22</td>\n",
       "    </tr>\n",
       "    <tr>\n",
       "      <td>3</td>\n",
       "      <td>3</td>\n",
       "      <td>4/1/14 0:28</td>\n",
       "      <td>40.7588</td>\n",
       "      <td>-73.9776</td>\n",
       "      <td>B02512</td>\n",
       "      <td>POINT (40.7588 -73.9776)</td>\n",
       "      <td>MN17</td>\n",
       "    </tr>\n",
       "    <tr>\n",
       "      <td>4</td>\n",
       "      <td>4</td>\n",
       "      <td>4/1/14 0:33</td>\n",
       "      <td>40.7594</td>\n",
       "      <td>-73.9722</td>\n",
       "      <td>B02512</td>\n",
       "      <td>POINT (40.7594 -73.9722)</td>\n",
       "      <td>MN19</td>\n",
       "    </tr>\n",
       "  </tbody>\n",
       "</table>\n",
       "</div>"
      ],
      "text/plain": [
       "   Unnamed: 0 pickup_datetime  pickup_latitude  pickup_longitude    base  \\\n",
       "0           0     4/1/14 0:11          40.7690          -73.9549  B02512   \n",
       "1           1     4/1/14 0:17          40.7267          -74.0345  B02512   \n",
       "2           2     4/1/14 0:21          40.7316          -73.9873  B02512   \n",
       "3           3     4/1/14 0:28          40.7588          -73.9776  B02512   \n",
       "4           4     4/1/14 0:33          40.7594          -73.9722  B02512   \n",
       "\n",
       "                         pickup_point pickup_nta  \n",
       "0   POINT (40.769 -73.95489999999999)        NaN  \n",
       "1  POINT (40.7267 -74.03449999999999)        NaN  \n",
       "2            POINT (40.7316 -73.9873)       MN22  \n",
       "3            POINT (40.7588 -73.9776)       MN17  \n",
       "4            POINT (40.7594 -73.9722)       MN19  "
      ]
     },
     "execution_count": 3,
     "metadata": {},
     "output_type": "execute_result"
    }
   ],
   "source": [
    "uber_trips_2014_nta.head()"
   ]
  },
  {
   "cell_type": "code",
   "execution_count": 4,
   "metadata": {},
   "outputs": [],
   "source": [
    "uber2015=pd.read_csv(\"C:/Users/Rodrigo Bernal/Desktop/DS4A_workspace/Datathon/Dataset/Dataset/uber_trips_2015.csv\")"
   ]
  },
  {
   "cell_type": "code",
   "execution_count": 5,
   "metadata": {},
   "outputs": [],
   "source": [
    "url = 'https://www.dropbox.com/s/pjovxyr8w6x6y5x/zones.csv?dl=1'\n",
    "zones=pd.read_csv(url)"
   ]
  },
  {
   "cell_type": "code",
   "execution_count": 6,
   "metadata": {
    "scrolled": false
   },
   "outputs": [
    {
     "data": {
      "text/html": [
       "<div>\n",
       "<style scoped>\n",
       "    .dataframe tbody tr th:only-of-type {\n",
       "        vertical-align: middle;\n",
       "    }\n",
       "\n",
       "    .dataframe tbody tr th {\n",
       "        vertical-align: top;\n",
       "    }\n",
       "\n",
       "    .dataframe thead th {\n",
       "        text-align: right;\n",
       "    }\n",
       "</style>\n",
       "<table border=\"1\" class=\"dataframe\">\n",
       "  <thead>\n",
       "    <tr style=\"text-align: right;\">\n",
       "      <th></th>\n",
       "      <th>location_id</th>\n",
       "      <th>borough</th>\n",
       "      <th>zone</th>\n",
       "      <th>service_zone</th>\n",
       "      <th>nta_code</th>\n",
       "    </tr>\n",
       "  </thead>\n",
       "  <tbody>\n",
       "    <tr>\n",
       "      <td>0</td>\n",
       "      <td>1</td>\n",
       "      <td>EWR</td>\n",
       "      <td>Newark Airport</td>\n",
       "      <td>EWR</td>\n",
       "      <td>NJ01</td>\n",
       "    </tr>\n",
       "    <tr>\n",
       "      <td>1</td>\n",
       "      <td>2</td>\n",
       "      <td>Queens</td>\n",
       "      <td>Jamaica Bay</td>\n",
       "      <td>Boro Zone</td>\n",
       "      <td>QN61</td>\n",
       "    </tr>\n",
       "    <tr>\n",
       "      <td>2</td>\n",
       "      <td>3</td>\n",
       "      <td>Bronx</td>\n",
       "      <td>Allerton/Pelham Gardens</td>\n",
       "      <td>Boro Zone</td>\n",
       "      <td>BX31</td>\n",
       "    </tr>\n",
       "    <tr>\n",
       "      <td>3</td>\n",
       "      <td>4</td>\n",
       "      <td>Manhattan</td>\n",
       "      <td>Alphabet City</td>\n",
       "      <td>Yellow Zone</td>\n",
       "      <td>MN22</td>\n",
       "    </tr>\n",
       "    <tr>\n",
       "      <td>4</td>\n",
       "      <td>5</td>\n",
       "      <td>Staten Island</td>\n",
       "      <td>Arden Heights</td>\n",
       "      <td>Boro Zone</td>\n",
       "      <td>SI48</td>\n",
       "    </tr>\n",
       "  </tbody>\n",
       "</table>\n",
       "</div>"
      ],
      "text/plain": [
       "   location_id        borough                     zone service_zone nta_code\n",
       "0            1            EWR           Newark Airport          EWR     NJ01\n",
       "1            2         Queens              Jamaica Bay    Boro Zone     QN61\n",
       "2            3          Bronx  Allerton/Pelham Gardens    Boro Zone     BX31\n",
       "3            4      Manhattan            Alphabet City  Yellow Zone     MN22\n",
       "4            5  Staten Island            Arden Heights    Boro Zone     SI48"
      ]
     },
     "execution_count": 6,
     "metadata": {},
     "output_type": "execute_result"
    }
   ],
   "source": [
    "zones.head()"
   ]
  },
  {
   "cell_type": "code",
   "execution_count": 7,
   "metadata": {},
   "outputs": [],
   "source": [
    "uber_trips_2014_nta = pd.merge(uber_trips_2014_nta,zones, how='left' ,left_on=['pickup_nta'],right_on=['nta_code'])"
   ]
  },
  {
   "cell_type": "code",
   "execution_count": 8,
   "metadata": {},
   "outputs": [],
   "source": [
    "uber_trips_2015_nta = pd.merge(uber2015,zones, how='left' ,left_on=['pickup_location_id'],right_on=['location_id'])"
   ]
  },
  {
   "cell_type": "code",
   "execution_count": 9,
   "metadata": {},
   "outputs": [],
   "source": [
    "uber_trips_2014_nta.head()\n",
    "del uber_trips_2014_nta['Unnamed: 0']\n",
    "del uber_trips_2014_nta['pickup_latitude']\n",
    "del uber_trips_2014_nta['pickup_longitude']\n",
    "del uber_trips_2014_nta['base']\n",
    "del uber_trips_2014_nta['pickup_point']\n",
    "del uber_trips_2014_nta['pickup_nta']\n",
    "#,'pickup_latitude','pickup_longitude','base','pickup_point','pickup_nta']"
   ]
  },
  {
   "cell_type": "code",
   "execution_count": 10,
   "metadata": {},
   "outputs": [
    {
     "data": {
      "text/html": [
       "<div>\n",
       "<style scoped>\n",
       "    .dataframe tbody tr th:only-of-type {\n",
       "        vertical-align: middle;\n",
       "    }\n",
       "\n",
       "    .dataframe tbody tr th {\n",
       "        vertical-align: top;\n",
       "    }\n",
       "\n",
       "    .dataframe thead th {\n",
       "        text-align: right;\n",
       "    }\n",
       "</style>\n",
       "<table border=\"1\" class=\"dataframe\">\n",
       "  <thead>\n",
       "    <tr style=\"text-align: right;\">\n",
       "      <th></th>\n",
       "      <th>pickup_datetime</th>\n",
       "      <th>location_id</th>\n",
       "      <th>borough</th>\n",
       "      <th>zone</th>\n",
       "      <th>service_zone</th>\n",
       "      <th>nta_code</th>\n",
       "    </tr>\n",
       "  </thead>\n",
       "  <tbody>\n",
       "    <tr>\n",
       "      <td>0</td>\n",
       "      <td>4/1/14 0:11</td>\n",
       "      <td>NaN</td>\n",
       "      <td>NaN</td>\n",
       "      <td>NaN</td>\n",
       "      <td>NaN</td>\n",
       "      <td>NaN</td>\n",
       "    </tr>\n",
       "    <tr>\n",
       "      <td>1</td>\n",
       "      <td>4/1/14 0:17</td>\n",
       "      <td>NaN</td>\n",
       "      <td>NaN</td>\n",
       "      <td>NaN</td>\n",
       "      <td>NaN</td>\n",
       "      <td>NaN</td>\n",
       "    </tr>\n",
       "    <tr>\n",
       "      <td>2</td>\n",
       "      <td>4/1/14 0:21</td>\n",
       "      <td>4.0</td>\n",
       "      <td>Manhattan</td>\n",
       "      <td>Alphabet City</td>\n",
       "      <td>Yellow Zone</td>\n",
       "      <td>MN22</td>\n",
       "    </tr>\n",
       "    <tr>\n",
       "      <td>3</td>\n",
       "      <td>4/1/14 0:21</td>\n",
       "      <td>79.0</td>\n",
       "      <td>Manhattan</td>\n",
       "      <td>East Village</td>\n",
       "      <td>Yellow Zone</td>\n",
       "      <td>MN22</td>\n",
       "    </tr>\n",
       "    <tr>\n",
       "      <td>4</td>\n",
       "      <td>4/1/14 0:28</td>\n",
       "      <td>161.0</td>\n",
       "      <td>Manhattan</td>\n",
       "      <td>Midtown Center</td>\n",
       "      <td>Yellow Zone</td>\n",
       "      <td>MN17</td>\n",
       "    </tr>\n",
       "  </tbody>\n",
       "</table>\n",
       "</div>"
      ],
      "text/plain": [
       "  pickup_datetime  location_id    borough            zone service_zone  \\\n",
       "0     4/1/14 0:11          NaN        NaN             NaN          NaN   \n",
       "1     4/1/14 0:17          NaN        NaN             NaN          NaN   \n",
       "2     4/1/14 0:21          4.0  Manhattan   Alphabet City  Yellow Zone   \n",
       "3     4/1/14 0:21         79.0  Manhattan    East Village  Yellow Zone   \n",
       "4     4/1/14 0:28        161.0  Manhattan  Midtown Center  Yellow Zone   \n",
       "\n",
       "  nta_code  \n",
       "0      NaN  \n",
       "1      NaN  \n",
       "2     MN22  \n",
       "3     MN22  \n",
       "4     MN17  "
      ]
     },
     "execution_count": 10,
     "metadata": {},
     "output_type": "execute_result"
    }
   ],
   "source": [
    "uber_trips_2014_nta.head()"
   ]
  },
  {
   "cell_type": "code",
   "execution_count": 11,
   "metadata": {},
   "outputs": [],
   "source": [
    "uber_trips_2015_nta.head()\n",
    "del uber_trips_2015_nta['pickup_location_id']\n",
    "del uber_trips_2015_nta['dispatch_base']\n",
    "del uber_trips_2015_nta['affiliate_base']"
   ]
  },
  {
   "cell_type": "code",
   "execution_count": 12,
   "metadata": {
    "scrolled": true
   },
   "outputs": [
    {
     "data": {
      "text/html": [
       "<div>\n",
       "<style scoped>\n",
       "    .dataframe tbody tr th:only-of-type {\n",
       "        vertical-align: middle;\n",
       "    }\n",
       "\n",
       "    .dataframe tbody tr th {\n",
       "        vertical-align: top;\n",
       "    }\n",
       "\n",
       "    .dataframe thead th {\n",
       "        text-align: right;\n",
       "    }\n",
       "</style>\n",
       "<table border=\"1\" class=\"dataframe\">\n",
       "  <thead>\n",
       "    <tr style=\"text-align: right;\">\n",
       "      <th></th>\n",
       "      <th>pickup_datetime</th>\n",
       "      <th>location_id</th>\n",
       "      <th>borough</th>\n",
       "      <th>zone</th>\n",
       "      <th>service_zone</th>\n",
       "      <th>nta_code</th>\n",
       "    </tr>\n",
       "  </thead>\n",
       "  <tbody>\n",
       "    <tr>\n",
       "      <td>0</td>\n",
       "      <td>2015-05-17 09:47:00</td>\n",
       "      <td>141.0</td>\n",
       "      <td>Manhattan</td>\n",
       "      <td>Lenox Hill West</td>\n",
       "      <td>Yellow Zone</td>\n",
       "      <td>MN31</td>\n",
       "    </tr>\n",
       "    <tr>\n",
       "      <td>1</td>\n",
       "      <td>2015-05-17 09:47:00</td>\n",
       "      <td>65.0</td>\n",
       "      <td>Brooklyn</td>\n",
       "      <td>Downtown Brooklyn/MetroTech</td>\n",
       "      <td>Boro Zone</td>\n",
       "      <td>BK38</td>\n",
       "    </tr>\n",
       "    <tr>\n",
       "      <td>2</td>\n",
       "      <td>2015-05-17 09:47:00</td>\n",
       "      <td>100.0</td>\n",
       "      <td>Manhattan</td>\n",
       "      <td>Garment District</td>\n",
       "      <td>Yellow Zone</td>\n",
       "      <td>MN13</td>\n",
       "    </tr>\n",
       "    <tr>\n",
       "      <td>3</td>\n",
       "      <td>2015-05-17 09:47:00</td>\n",
       "      <td>80.0</td>\n",
       "      <td>Brooklyn</td>\n",
       "      <td>East Williamsburg</td>\n",
       "      <td>Boro Zone</td>\n",
       "      <td>BK90</td>\n",
       "    </tr>\n",
       "    <tr>\n",
       "      <td>4</td>\n",
       "      <td>2015-05-17 09:47:00</td>\n",
       "      <td>90.0</td>\n",
       "      <td>Manhattan</td>\n",
       "      <td>Flatiron</td>\n",
       "      <td>Yellow Zone</td>\n",
       "      <td>MN13</td>\n",
       "    </tr>\n",
       "  </tbody>\n",
       "</table>\n",
       "</div>"
      ],
      "text/plain": [
       "       pickup_datetime  location_id    borough                         zone  \\\n",
       "0  2015-05-17 09:47:00        141.0  Manhattan              Lenox Hill West   \n",
       "1  2015-05-17 09:47:00         65.0   Brooklyn  Downtown Brooklyn/MetroTech   \n",
       "2  2015-05-17 09:47:00        100.0  Manhattan             Garment District   \n",
       "3  2015-05-17 09:47:00         80.0   Brooklyn            East Williamsburg   \n",
       "4  2015-05-17 09:47:00         90.0  Manhattan                     Flatiron   \n",
       "\n",
       "  service_zone nta_code  \n",
       "0  Yellow Zone     MN31  \n",
       "1    Boro Zone     BK38  \n",
       "2  Yellow Zone     MN13  \n",
       "3    Boro Zone     BK90  \n",
       "4  Yellow Zone     MN13  "
      ]
     },
     "execution_count": 12,
     "metadata": {},
     "output_type": "execute_result"
    }
   ],
   "source": [
    "uber_trips_2015_nta.head()"
   ]
  },
  {
   "cell_type": "code",
   "execution_count": 13,
   "metadata": {},
   "outputs": [],
   "source": [
    "uber_trips=uber_trips_2014_nta.append(uber_trips_2015_nta, ignore_index=True)\n",
    "del uber_trips_2014_nta\n",
    "del uber_trips_2015_nta"
   ]
  },
  {
   "cell_type": "code",
   "execution_count": 14,
   "metadata": {},
   "outputs": [],
   "source": [
    "uber_trips[\"pickup_datetime\"]=pd.to_datetime(uber_trips[\"pickup_datetime\"])\n",
    "uber_trips['date'] = uber_trips['pickup_datetime'].dt.date\n",
    "uber_trips['month_year'] = uber_trips['pickup_datetime'].dt.to_period('M')\n",
    "dayOfWeek={0:'Monday', 1:'Tuesday', 2:'Wednesday', 3:'Thursday', 4:'Friday', 5:'Saturday', 6:'Sunday'}\n",
    "uber_trips['weekday']=uber_trips[\"pickup_datetime\"].dt.dayofweek\n",
    "#uber2015['daytype'] = np.where(uber2015['weekday']>=5, 'weekend', 'weekday')\n",
    "#uber2015['weekday']=uber2015[\"date\"].dt.dayofweek.map(dayOfWeek)\n",
    "uber_trips['hour']=uber_trips[\"pickup_datetime\"].dt.hour"
   ]
  },
  {
   "cell_type": "code",
   "execution_count": 15,
   "metadata": {},
   "outputs": [
    {
     "data": {
      "text/html": [
       "<div>\n",
       "<style scoped>\n",
       "    .dataframe tbody tr th:only-of-type {\n",
       "        vertical-align: middle;\n",
       "    }\n",
       "\n",
       "    .dataframe tbody tr th {\n",
       "        vertical-align: top;\n",
       "    }\n",
       "\n",
       "    .dataframe thead th {\n",
       "        text-align: right;\n",
       "    }\n",
       "</style>\n",
       "<table border=\"1\" class=\"dataframe\">\n",
       "  <thead>\n",
       "    <tr style=\"text-align: right;\">\n",
       "      <th></th>\n",
       "      <th>pickup_datetime</th>\n",
       "      <th>location_id</th>\n",
       "      <th>borough</th>\n",
       "      <th>zone</th>\n",
       "      <th>service_zone</th>\n",
       "      <th>nta_code</th>\n",
       "      <th>date</th>\n",
       "      <th>month_year</th>\n",
       "      <th>weekday</th>\n",
       "      <th>hour</th>\n",
       "    </tr>\n",
       "  </thead>\n",
       "  <tbody>\n",
       "    <tr>\n",
       "      <td>0</td>\n",
       "      <td>2014-04-01 00:11:00</td>\n",
       "      <td>NaN</td>\n",
       "      <td>NaN</td>\n",
       "      <td>NaN</td>\n",
       "      <td>NaN</td>\n",
       "      <td>NaN</td>\n",
       "      <td>2014-04-01</td>\n",
       "      <td>2014-04</td>\n",
       "      <td>1</td>\n",
       "      <td>0</td>\n",
       "    </tr>\n",
       "    <tr>\n",
       "      <td>1</td>\n",
       "      <td>2014-04-01 00:17:00</td>\n",
       "      <td>NaN</td>\n",
       "      <td>NaN</td>\n",
       "      <td>NaN</td>\n",
       "      <td>NaN</td>\n",
       "      <td>NaN</td>\n",
       "      <td>2014-04-01</td>\n",
       "      <td>2014-04</td>\n",
       "      <td>1</td>\n",
       "      <td>0</td>\n",
       "    </tr>\n",
       "    <tr>\n",
       "      <td>2</td>\n",
       "      <td>2014-04-01 00:21:00</td>\n",
       "      <td>4.0</td>\n",
       "      <td>Manhattan</td>\n",
       "      <td>Alphabet City</td>\n",
       "      <td>Yellow Zone</td>\n",
       "      <td>MN22</td>\n",
       "      <td>2014-04-01</td>\n",
       "      <td>2014-04</td>\n",
       "      <td>1</td>\n",
       "      <td>0</td>\n",
       "    </tr>\n",
       "    <tr>\n",
       "      <td>3</td>\n",
       "      <td>2014-04-01 00:21:00</td>\n",
       "      <td>79.0</td>\n",
       "      <td>Manhattan</td>\n",
       "      <td>East Village</td>\n",
       "      <td>Yellow Zone</td>\n",
       "      <td>MN22</td>\n",
       "      <td>2014-04-01</td>\n",
       "      <td>2014-04</td>\n",
       "      <td>1</td>\n",
       "      <td>0</td>\n",
       "    </tr>\n",
       "    <tr>\n",
       "      <td>4</td>\n",
       "      <td>2014-04-01 00:28:00</td>\n",
       "      <td>161.0</td>\n",
       "      <td>Manhattan</td>\n",
       "      <td>Midtown Center</td>\n",
       "      <td>Yellow Zone</td>\n",
       "      <td>MN17</td>\n",
       "      <td>2014-04-01</td>\n",
       "      <td>2014-04</td>\n",
       "      <td>1</td>\n",
       "      <td>0</td>\n",
       "    </tr>\n",
       "  </tbody>\n",
       "</table>\n",
       "</div>"
      ],
      "text/plain": [
       "      pickup_datetime  location_id    borough            zone service_zone  \\\n",
       "0 2014-04-01 00:11:00          NaN        NaN             NaN          NaN   \n",
       "1 2014-04-01 00:17:00          NaN        NaN             NaN          NaN   \n",
       "2 2014-04-01 00:21:00          4.0  Manhattan   Alphabet City  Yellow Zone   \n",
       "3 2014-04-01 00:21:00         79.0  Manhattan    East Village  Yellow Zone   \n",
       "4 2014-04-01 00:28:00        161.0  Manhattan  Midtown Center  Yellow Zone   \n",
       "\n",
       "  nta_code        date month_year  weekday  hour  \n",
       "0      NaN  2014-04-01    2014-04        1     0  \n",
       "1      NaN  2014-04-01    2014-04        1     0  \n",
       "2     MN22  2014-04-01    2014-04        1     0  \n",
       "3     MN22  2014-04-01    2014-04        1     0  \n",
       "4     MN17  2014-04-01    2014-04        1     0  "
      ]
     },
     "execution_count": 15,
     "metadata": {},
     "output_type": "execute_result"
    }
   ],
   "source": [
    "uber_trips.head()"
   ]
  },
  {
   "cell_type": "code",
   "execution_count": 16,
   "metadata": {},
   "outputs": [],
   "source": [
    "url = 'https://www.dropbox.com/s/za6yp2mz6p560o1/uber_trips_2014_nta.csv.gz?dl=1'\n",
    "green_trips=pd.read_csv(url, compression='gzip')"
   ]
  },
  {
   "cell_type": "code",
   "execution_count": 17,
   "metadata": {},
   "outputs": [
    {
     "data": {
      "text/html": [
       "<div>\n",
       "<style scoped>\n",
       "    .dataframe tbody tr th:only-of-type {\n",
       "        vertical-align: middle;\n",
       "    }\n",
       "\n",
       "    .dataframe tbody tr th {\n",
       "        vertical-align: top;\n",
       "    }\n",
       "\n",
       "    .dataframe thead th {\n",
       "        text-align: right;\n",
       "    }\n",
       "</style>\n",
       "<table border=\"1\" class=\"dataframe\">\n",
       "  <thead>\n",
       "    <tr style=\"text-align: right;\">\n",
       "      <th></th>\n",
       "      <th>pickup_datetime</th>\n",
       "      <th>pickup_nta</th>\n",
       "    </tr>\n",
       "  </thead>\n",
       "  <tbody>\n",
       "    <tr>\n",
       "      <td>0</td>\n",
       "      <td>4/1/14 0:11</td>\n",
       "      <td>NaN</td>\n",
       "    </tr>\n",
       "    <tr>\n",
       "      <td>1</td>\n",
       "      <td>4/1/14 0:17</td>\n",
       "      <td>NaN</td>\n",
       "    </tr>\n",
       "    <tr>\n",
       "      <td>2</td>\n",
       "      <td>4/1/14 0:21</td>\n",
       "      <td>MN22</td>\n",
       "    </tr>\n",
       "    <tr>\n",
       "      <td>3</td>\n",
       "      <td>4/1/14 0:28</td>\n",
       "      <td>MN17</td>\n",
       "    </tr>\n",
       "    <tr>\n",
       "      <td>4</td>\n",
       "      <td>4/1/14 0:33</td>\n",
       "      <td>MN19</td>\n",
       "    </tr>\n",
       "  </tbody>\n",
       "</table>\n",
       "</div>"
      ],
      "text/plain": [
       "  pickup_datetime pickup_nta\n",
       "0     4/1/14 0:11        NaN\n",
       "1     4/1/14 0:17        NaN\n",
       "2     4/1/14 0:21       MN22\n",
       "3     4/1/14 0:28       MN17\n",
       "4     4/1/14 0:33       MN19"
      ]
     },
     "execution_count": 17,
     "metadata": {},
     "output_type": "execute_result"
    }
   ],
   "source": [
    "del green_trips['Unnamed: 0']\n",
    "del green_trips['pickup_latitude']\n",
    "del green_trips['pickup_longitude']\n",
    "del green_trips['base']\n",
    "del green_trips['pickup_point']\n",
    "green_trips.head()"
   ]
  },
  {
   "cell_type": "code",
   "execution_count": null,
   "metadata": {},
   "outputs": [],
   "source": [
    "green_trips=pd.merge(green_trips,zones, how='left' ,left_on=['pickup_nta'],right_on=['nta_code'])\n",
    "del green_trips['pickup_nta']"
   ]
  },
  {
   "cell_type": "code",
   "execution_count": null,
   "metadata": {},
   "outputs": [],
   "source": [
    "green_trips[\"pickup_datetime\"]=pd.to_datetime(green_trips[\"pickup_datetime\"])\n",
    "green_trips['date'] = green_trips['pickup_datetime'].dt.date\n",
    "green_trips['month_year'] = green_trips['pickup_datetime'].dt.to_period('M')\n",
    "dayOfWeek={0:'Monday', 1:'Tuesday', 2:'Wednesday', 3:'Thursday', 4:'Friday', 5:'Saturday', 6:'Sunday'}\n",
    "green_trips['weekday']=green_trips[\"pickup_datetime\"].dt.dayofweek\n",
    "#uber2015['daytype'] = np.where(uber2015['weekday']>=5, 'weekend', 'weekday')\n",
    "#uber2015['weekday']=uber2015[\"date\"].dt.dayofweek.map(dayOfWeek)\n",
    "green_trips['hour']=green_trips[\"pickup_datetime\"].dt.hour"
   ]
  },
  {
   "cell_type": "code",
   "execution_count": null,
   "metadata": {},
   "outputs": [],
   "source": [
    "url = 'https://www.dropbox.com/s/k4amamqkqf7ap92/yellow_trips_nta.csv.gz?dl=1'\n",
    "yellow_trips=pd.read_csv(url, compression='gzip')"
   ]
  },
  {
   "cell_type": "code",
   "execution_count": null,
   "metadata": {},
   "outputs": [],
   "source": [
    "del yellow_trips['dropoff_datetime']\n",
    "del yellow_trips['dropoff_longitude']\n",
    "del yellow_trips['dropoff_latitude']\n",
    "del yellow_trips['passenger_count']\n",
    "del yellow_trips['trip_distance']\n",
    "del yellow_trips['total_amount']\n",
    "del yellow_trips['dropoff_point']\n",
    "del yellow_trips['dropoff_nta']\n",
    "del yellow_trips['pickup_point']\n",
    "del yellow_trips['Unnamed: 0']\n",
    "del yellow_trips['pickup_longitude']\n",
    "del yellow_trips['pickup_latitude']\n",
    "yellow_trips.head()"
   ]
  },
  {
   "cell_type": "code",
   "execution_count": null,
   "metadata": {},
   "outputs": [],
   "source": [
    "yellow_trips=pd.merge(yellow_trips,zones, how='left' ,left_on=['pickup_nta'],right_on=['nta_code'])\n",
    "del yellow_trips['pickup_nta']"
   ]
  },
  {
   "cell_type": "code",
   "execution_count": null,
   "metadata": {},
   "outputs": [],
   "source": [
    "yellow_trips[\"pickup_datetime\"]=pd.to_datetime(yellow_trips[\"pickup_datetime\"])\n",
    "yellow_trips['date'] = yellow_trips['pickup_datetime'].dt.date\n",
    "yellow_trips['month_year'] = yellow_trips['pickup_datetime'].dt.to_period('M')\n",
    "dayOfWeek={0:'Monday', 1:'Tuesday', 2:'Wednesday', 3:'Thursday', 4:'Friday', 5:'Saturday', 6:'Sunday'}\n",
    "yellow_trips['weekday']=yellow_trips[\"pickup_datetime\"].dt.dayofweek\n",
    "#uber2015['daytype'] = np.where(uber2015['weekday']>=5, 'weekend', 'weekday')\n",
    "#uber2015['weekday']=uber2015[\"date\"].dt.dayofweek.map(dayOfWeek)\n",
    "yellow_trips['hour']=yellow_trips[\"pickup_datetime\"].dt.hour"
   ]
  },
  {
   "cell_type": "code",
   "execution_count": null,
   "metadata": {},
   "outputs": [],
   "source": [
    "uber_trips_manhattan=uber_trips[uber_trips['borough']=='Manhattan']\n",
    "yellow_trips_manhattan=yellow_trips[yellow_trips['borough']=='Manhattan']\n",
    "green_trips_manhattan=green_trips[green_trips['borough']=='Manhattan']\n",
    "uber_trips_manhattan['class']='Uber'\n",
    "yellow_trips_manhattan['class']='Yellow'\n",
    "green_trips_manhattan['class']='Green'"
   ]
  },
  {
   "cell_type": "code",
   "execution_count": null,
   "metadata": {},
   "outputs": [],
   "source": [
    "manhattan_trips=uber_trips_manhattan.append([yellow_trips_manhattan, green_trips_manhattan])"
   ]
  },
  {
   "cell_type": "code",
   "execution_count": null,
   "metadata": {
    "scrolled": true
   },
   "outputs": [],
   "source": [
    "manhattan_trips.head()"
   ]
  },
  {
   "cell_type": "code",
   "execution_count": null,
   "metadata": {},
   "outputs": [],
   "source": [
    "manhattan_trips.groupby(['weekday','zone']).size(), columns=['number_of_trips']"
   ]
  },
  {
   "cell_type": "code",
   "execution_count": null,
   "metadata": {},
   "outputs": [],
   "source": [
    "manhattan_trips_by_dayzone=pd.DataFrame(manhattan_trips.groupby(['weekday','zone']).size(), columns=['number_of_trips'])\n",
    "manhattan_trips_by_dayzone.reset_index(inplace=True)\n",
    "manhattan_trips_by_hourzone=pd.DataFrame(manhattan_trips.groupby(['hour','zone']).size(), columns=['number_of_trips'])\n",
    "manhattan_trips_by_hourzone.reset_index(inplace=True)"
   ]
  },
  {
   "cell_type": "code",
   "execution_count": null,
   "metadata": {},
   "outputs": [],
   "source": [
    "pivot_df = MAN_ubertrips_by_dayzone.pivot('zone','weekday','number_of_trips')\n",
    "fig, ax = plt.subplots(figsize=(15,10))\n",
    "sns.heatmap(pivot_df, cmap=\"Reds\", ax=ax);\n",
    "#ax.set_title('PEC Electric Power Sector');"
   ]
  },
  {
   "cell_type": "code",
   "execution_count": null,
   "metadata": {},
   "outputs": [],
   "source": [
    "pivot_df = MAN_ubertrips_by_hourzone.pivot('zone','hour','number_of_trips')\n",
    "fig, ax = plt.subplots(figsize=(15,10))\n",
    "sns.heatmap(pivot_df, cmap=\"Reds\", ax=ax);\n",
    "#ax.set_title('PEC Electric Power Sector');"
   ]
  }
 ],
 "metadata": {
  "kernelspec": {
   "display_name": "Python 3",
   "language": "python",
   "name": "python3"
  },
  "language_info": {
   "codemirror_mode": {
    "name": "ipython",
    "version": 3
   },
   "file_extension": ".py",
   "mimetype": "text/x-python",
   "name": "python",
   "nbconvert_exporter": "python",
   "pygments_lexer": "ipython3",
   "version": "3.7.3"
  }
 },
 "nbformat": 4,
 "nbformat_minor": 2
}
