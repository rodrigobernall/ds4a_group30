{
 "cells": [
  {
   "cell_type": "code",
   "execution_count": 1,
   "metadata": {},
   "outputs": [],
   "source": [
    "import pandas as pd \n",
    "import numpy as np \n",
    "import seaborn as sns \n",
    "from datetime import datetime\n",
    "from datetime import timedelta \n",
    "import math\n",
    "import matplotlib\n",
    "from pylab import rcParams\n",
    "import statsmodels.api as sm\n",
    "import matplotlib.pyplot as plt\n",
    "import pygeohash as pgh"
   ]
  },
  {
   "cell_type": "code",
   "execution_count": 26,
   "metadata": {},
   "outputs": [],
   "source": [
    "yellow = pd.read_csv(\"Dataset/yellow_trips.csv\")\n"
   ]
  },
  {
   "cell_type": "code",
   "execution_count": 13,
   "metadata": {},
   "outputs": [],
   "source": [
    "#uber = pd.concat([pd.read_csv(\"Dataset/uber_trips_2014.csv\"), pd.read_csv(\"Dataset/uber_trips_2015.csv\")], ignore_index=True) \n",
    "\n",
    "\n",
    "uber1 =  pd.read_csv(\"Dataset/uber_trips_2014.csv\")\n",
    "\n",
    "\n",
    "\n"
   ]
  },
  {
   "cell_type": "code",
   "execution_count": 16,
   "metadata": {},
   "outputs": [],
   "source": [
    "uber1[\"date\"] = pd.to_datetime(uber1['pickup_datetime'])"
   ]
  },
  {
   "cell_type": "code",
   "execution_count": 18,
   "metadata": {},
   "outputs": [],
   "source": [
    "uber2 =  pd.read_csv(\"Dataset/uber_trips_2015.csv\")"
   ]
  },
  {
   "cell_type": "code",
   "execution_count": 20,
   "metadata": {},
   "outputs": [],
   "source": [
    "uber2[\"date\"] = pd.to_datetime(uber2[\"pickup_datetime\"], format='%Y-%m-%d %H:%M:%S')"
   ]
  },
  {
   "cell_type": "code",
   "execution_count": 22,
   "metadata": {},
   "outputs": [
    {
     "name": "stderr",
     "output_type": "stream",
     "text": [
      "/anaconda3/lib/python3.6/site-packages/ipykernel_launcher.py:1: FutureWarning: Sorting because non-concatenation axis is not aligned. A future version\n",
      "of pandas will change to not sort by default.\n",
      "\n",
      "To accept the future behavior, pass 'sort=False'.\n",
      "\n",
      "To retain the current behavior and silence the warning, pass 'sort=True'.\n",
      "\n",
      "  \"\"\"Entry point for launching an IPython kernel.\n"
     ]
    }
   ],
   "source": [
    "uber = pd.concat([uber1,uber2], ignore_index=True) \n",
    "del uber1\n",
    "del uber2"
   ]
  },
  {
   "cell_type": "code",
   "execution_count": 23,
   "metadata": {},
   "outputs": [
    {
     "data": {
      "text/html": [
       "<div>\n",
       "<style scoped>\n",
       "    .dataframe tbody tr th:only-of-type {\n",
       "        vertical-align: middle;\n",
       "    }\n",
       "\n",
       "    .dataframe tbody tr th {\n",
       "        vertical-align: top;\n",
       "    }\n",
       "\n",
       "    .dataframe thead th {\n",
       "        text-align: right;\n",
       "    }\n",
       "</style>\n",
       "<table border=\"1\" class=\"dataframe\">\n",
       "  <thead>\n",
       "    <tr style=\"text-align: right;\">\n",
       "      <th></th>\n",
       "      <th>affiliate_base</th>\n",
       "      <th>base</th>\n",
       "      <th>date</th>\n",
       "      <th>dispatch_base</th>\n",
       "      <th>pickup_datetime</th>\n",
       "      <th>pickup_latitude</th>\n",
       "      <th>pickup_location_id</th>\n",
       "      <th>pickup_longitude</th>\n",
       "    </tr>\n",
       "  </thead>\n",
       "  <tbody>\n",
       "    <tr>\n",
       "      <th>0</th>\n",
       "      <td>NaN</td>\n",
       "      <td>B02512</td>\n",
       "      <td>2014-04-01 00:11:00</td>\n",
       "      <td>NaN</td>\n",
       "      <td>4/1/14 0:11</td>\n",
       "      <td>40.7690</td>\n",
       "      <td>NaN</td>\n",
       "      <td>-73.9549</td>\n",
       "    </tr>\n",
       "    <tr>\n",
       "      <th>1</th>\n",
       "      <td>NaN</td>\n",
       "      <td>B02512</td>\n",
       "      <td>2014-04-01 00:17:00</td>\n",
       "      <td>NaN</td>\n",
       "      <td>4/1/14 0:17</td>\n",
       "      <td>40.7267</td>\n",
       "      <td>NaN</td>\n",
       "      <td>-74.0345</td>\n",
       "    </tr>\n",
       "    <tr>\n",
       "      <th>2</th>\n",
       "      <td>NaN</td>\n",
       "      <td>B02512</td>\n",
       "      <td>2014-04-01 00:21:00</td>\n",
       "      <td>NaN</td>\n",
       "      <td>4/1/14 0:21</td>\n",
       "      <td>40.7316</td>\n",
       "      <td>NaN</td>\n",
       "      <td>-73.9873</td>\n",
       "    </tr>\n",
       "    <tr>\n",
       "      <th>3</th>\n",
       "      <td>NaN</td>\n",
       "      <td>B02512</td>\n",
       "      <td>2014-04-01 00:28:00</td>\n",
       "      <td>NaN</td>\n",
       "      <td>4/1/14 0:28</td>\n",
       "      <td>40.7588</td>\n",
       "      <td>NaN</td>\n",
       "      <td>-73.9776</td>\n",
       "    </tr>\n",
       "    <tr>\n",
       "      <th>4</th>\n",
       "      <td>NaN</td>\n",
       "      <td>B02512</td>\n",
       "      <td>2014-04-01 00:33:00</td>\n",
       "      <td>NaN</td>\n",
       "      <td>4/1/14 0:33</td>\n",
       "      <td>40.7594</td>\n",
       "      <td>NaN</td>\n",
       "      <td>-73.9722</td>\n",
       "    </tr>\n",
       "  </tbody>\n",
       "</table>\n",
       "</div>"
      ],
      "text/plain": [
       "  affiliate_base    base                date dispatch_base pickup_datetime  \\\n",
       "0            NaN  B02512 2014-04-01 00:11:00           NaN     4/1/14 0:11   \n",
       "1            NaN  B02512 2014-04-01 00:17:00           NaN     4/1/14 0:17   \n",
       "2            NaN  B02512 2014-04-01 00:21:00           NaN     4/1/14 0:21   \n",
       "3            NaN  B02512 2014-04-01 00:28:00           NaN     4/1/14 0:28   \n",
       "4            NaN  B02512 2014-04-01 00:33:00           NaN     4/1/14 0:33   \n",
       "\n",
       "   pickup_latitude  pickup_location_id  pickup_longitude  \n",
       "0          40.7690                 NaN          -73.9549  \n",
       "1          40.7267                 NaN          -74.0345  \n",
       "2          40.7316                 NaN          -73.9873  \n",
       "3          40.7588                 NaN          -73.9776  \n",
       "4          40.7594                 NaN          -73.9722  "
      ]
     },
     "execution_count": 23,
     "metadata": {},
     "output_type": "execute_result"
    }
   ],
   "source": [
    "uber.head()"
   ]
  },
  {
   "cell_type": "code",
   "execution_count": 27,
   "metadata": {},
   "outputs": [
    {
     "name": "stderr",
     "output_type": "stream",
     "text": [
      "/anaconda3/lib/python3.6/site-packages/IPython/core/interactiveshell.py:3020: DtypeWarning: Columns (1) have mixed types. Specify dtype option on import or set low_memory=False.\n",
      "  interactivity=interactivity, compiler=compiler, result=result)\n"
     ]
    }
   ],
   "source": [
    "mta = pd.read_csv(\"Dataset/mta_trips.csv\")"
   ]
  },
  {
   "cell_type": "code",
   "execution_count": 34,
   "metadata": {},
   "outputs": [],
   "source": [
    "yellow[\"pickup_datetime\"] = pd.to_datetime(yellow[\"pickup_datetime\"], format='%Y-%m-%d %H:%M:%S')\n",
    "yellow[\"dropoff_datetime\"] = pd.to_datetime(yellow[\"dropoff_datetime\"], format='%Y-%m-%d %H:%M:%S')\n",
    "uber[\"pickup_datetime\"] = uber[\"date\"]"
   ]
  },
  {
   "cell_type": "code",
   "execution_count": 38,
   "metadata": {},
   "outputs": [],
   "source": [
    "mta[\"pickup_datetime\"] = pd.to_datetime(mta['datetime'])"
   ]
  },
  {
   "cell_type": "code",
   "execution_count": 45,
   "metadata": {},
   "outputs": [
    {
     "name": "stdout",
     "output_type": "stream",
     "text": [
      "=================== Yellow ====================\n",
      "2015-06-30 23:59:59\n",
      "2014-04-01 00:00:00\n",
      "=================== mta ====================\n",
      "2015-06-26 23:57:44\n",
      "2014-03-29 00:29:55\n",
      "=================== Uber ====================\n",
      "2015-06-30 23:59:00\n",
      "2014-04-01 00:00:00\n"
     ]
    }
   ],
   "source": [
    "print(\"=================== Yellow ====================\")\n",
    "print(yellow[\"pickup_datetime\"].max())\n",
    "print(yellow[\"pickup_datetime\"].min())\n",
    "print(\"=================== mta ====================\")\n",
    "print(mta[\"pickup_datetime\"].max())\n",
    "print(mta[\"pickup_datetime\"].min())\n",
    "print(\"=================== Uber ====================\")\n",
    "print(uber[\"pickup_datetime\"].max())\n",
    "print(uber[\"pickup_datetime\"].min())"
   ]
  },
  {
   "cell_type": "markdown",
   "metadata": {},
   "source": [
    "## Date conclusion\n",
    "\n",
    "- Uber only has pickup date for dates in 2014 \n",
    "- yello starts since 2014-04 so in order to compare we need both values \n"
   ]
  },
  {
   "cell_type": "code",
   "execution_count": 57,
   "metadata": {},
   "outputs": [
    {
     "data": {
      "text/html": [
       "<div>\n",
       "<style scoped>\n",
       "    .dataframe tbody tr th:only-of-type {\n",
       "        vertical-align: middle;\n",
       "    }\n",
       "\n",
       "    .dataframe tbody tr th {\n",
       "        vertical-align: top;\n",
       "    }\n",
       "\n",
       "    .dataframe thead th {\n",
       "        text-align: right;\n",
       "    }\n",
       "</style>\n",
       "<table border=\"1\" class=\"dataframe\">\n",
       "  <thead>\n",
       "    <tr style=\"text-align: right;\">\n",
       "      <th></th>\n",
       "      <th>station</th>\n",
       "      <th>line_name</th>\n",
       "      <th>division</th>\n",
       "      <th>audit_type</th>\n",
       "      <th>unit_id</th>\n",
       "      <th>datetime</th>\n",
       "      <th>new_entries</th>\n",
       "      <th>new_exits</th>\n",
       "      <th>latitude</th>\n",
       "      <th>longitude</th>\n",
       "      <th>pickup_datetime</th>\n",
       "    </tr>\n",
       "  </thead>\n",
       "  <tbody>\n",
       "    <tr>\n",
       "      <th>0</th>\n",
       "      <td>WHITEHALL ST</td>\n",
       "      <td>R1</td>\n",
       "      <td>BMT</td>\n",
       "      <td>REGULAR</td>\n",
       "      <td>R001_A058_01-00-00</td>\n",
       "      <td>03/29/2014 05:00:00</td>\n",
       "      <td>4</td>\n",
       "      <td>6</td>\n",
       "      <td>40.703087</td>\n",
       "      <td>-74.012994</td>\n",
       "      <td>2014-03-29 05:00:00</td>\n",
       "    </tr>\n",
       "    <tr>\n",
       "      <th>1</th>\n",
       "      <td>WHITEHALL ST</td>\n",
       "      <td>R1</td>\n",
       "      <td>BMT</td>\n",
       "      <td>REGULAR</td>\n",
       "      <td>R001_A058_01-00-00</td>\n",
       "      <td>03/29/2014 09:00:00</td>\n",
       "      <td>1</td>\n",
       "      <td>13</td>\n",
       "      <td>40.703087</td>\n",
       "      <td>-74.012994</td>\n",
       "      <td>2014-03-29 09:00:00</td>\n",
       "    </tr>\n",
       "    <tr>\n",
       "      <th>2</th>\n",
       "      <td>WHITEHALL ST</td>\n",
       "      <td>R1</td>\n",
       "      <td>BMT</td>\n",
       "      <td>REGULAR</td>\n",
       "      <td>R001_A058_01-00-00</td>\n",
       "      <td>03/29/2014 13:00:00</td>\n",
       "      <td>1</td>\n",
       "      <td>8</td>\n",
       "      <td>40.703087</td>\n",
       "      <td>-74.012994</td>\n",
       "      <td>2014-03-29 13:00:00</td>\n",
       "    </tr>\n",
       "    <tr>\n",
       "      <th>3</th>\n",
       "      <td>WHITEHALL ST</td>\n",
       "      <td>R1</td>\n",
       "      <td>BMT</td>\n",
       "      <td>REGULAR</td>\n",
       "      <td>R001_A058_01-00-00</td>\n",
       "      <td>03/29/2014 17:00:00</td>\n",
       "      <td>1</td>\n",
       "      <td>8</td>\n",
       "      <td>40.703087</td>\n",
       "      <td>-74.012994</td>\n",
       "      <td>2014-03-29 17:00:00</td>\n",
       "    </tr>\n",
       "    <tr>\n",
       "      <th>4</th>\n",
       "      <td>WHITEHALL ST</td>\n",
       "      <td>R1</td>\n",
       "      <td>BMT</td>\n",
       "      <td>REGULAR</td>\n",
       "      <td>R001_A058_01-00-00</td>\n",
       "      <td>03/29/2014 21:00:00</td>\n",
       "      <td>2</td>\n",
       "      <td>3</td>\n",
       "      <td>40.703087</td>\n",
       "      <td>-74.012994</td>\n",
       "      <td>2014-03-29 21:00:00</td>\n",
       "    </tr>\n",
       "  </tbody>\n",
       "</table>\n",
       "</div>"
      ],
      "text/plain": [
       "        station line_name division audit_type             unit_id  \\\n",
       "0  WHITEHALL ST        R1      BMT    REGULAR  R001_A058_01-00-00   \n",
       "1  WHITEHALL ST        R1      BMT    REGULAR  R001_A058_01-00-00   \n",
       "2  WHITEHALL ST        R1      BMT    REGULAR  R001_A058_01-00-00   \n",
       "3  WHITEHALL ST        R1      BMT    REGULAR  R001_A058_01-00-00   \n",
       "4  WHITEHALL ST        R1      BMT    REGULAR  R001_A058_01-00-00   \n",
       "\n",
       "              datetime  new_entries  new_exits   latitude  longitude  \\\n",
       "0  03/29/2014 05:00:00            4          6  40.703087 -74.012994   \n",
       "1  03/29/2014 09:00:00            1         13  40.703087 -74.012994   \n",
       "2  03/29/2014 13:00:00            1          8  40.703087 -74.012994   \n",
       "3  03/29/2014 17:00:00            1          8  40.703087 -74.012994   \n",
       "4  03/29/2014 21:00:00            2          3  40.703087 -74.012994   \n",
       "\n",
       "      pickup_datetime  \n",
       "0 2014-03-29 05:00:00  \n",
       "1 2014-03-29 09:00:00  \n",
       "2 2014-03-29 13:00:00  \n",
       "3 2014-03-29 17:00:00  \n",
       "4 2014-03-29 21:00:00  "
      ]
     },
     "execution_count": 57,
     "metadata": {},
     "output_type": "execute_result"
    }
   ],
   "source": [
    "mta.head()"
   ]
  },
  {
   "cell_type": "markdown",
   "metadata": {},
   "source": [
    "# Time series analisis "
   ]
  },
  {
   "cell_type": "code",
   "execution_count": 67,
   "metadata": {},
   "outputs": [
    {
     "data": {
      "text/plain": [
       "<matplotlib.axes._subplots.AxesSubplot at 0x13c8fc0f0>"
      ]
     },
     "execution_count": 67,
     "metadata": {},
     "output_type": "execute_result"
    },
    {
     "data": {
      "image/png": "[encoded data removed]",
      "text/plain": [
       "<Figure size 432x288 with 1 Axes>"
      ]
     },
     "metadata": {
      "needs_background": "light"
     },
     "output_type": "display_data"
    }
   ],
   "source": [
    "uber_time = uber[uber[\"pickup_datetime\"] > '2014-04-01']\n",
    "uber_time = uber_time[uber_time[\"pickup_datetime\"] < '2014-09-01']\n",
    "uber_time = uber_time[[\"pickup_datetime\",\"base\"]]\n",
    "uber_time = uber_time.set_index(\"pickup_datetime\")\n",
    "uber_time = uber_time['base'].resample('W').count()\n",
    "uber_time.plot()"
   ]
  },
  {
   "cell_type": "code",
   "execution_count": 68,
   "metadata": {},
   "outputs": [
    {
     "data": {
      "text/plain": [
       "<matplotlib.axes._subplots.AxesSubplot at 0x11e7efdd8>"
      ]
     },
     "execution_count": 68,
     "metadata": {},
     "output_type": "execute_result"
    },
    {
     "data": {
      "image/png": "[encoded data removed]",
      "text/plain": [
       "<Figure size 432x288 with 1 Axes>"
      ]
     },
     "metadata": {
      "needs_background": "light"
     },
     "output_type": "display_data"
    }
   ],
   "source": [
    "yellow_t = yellow[yellow[\"pickup_datetime\"] > '2014-04-01']\n",
    "yellow_t = yellow_t[yellow_t[\"pickup_datetime\"] < '2014-09-01']\n",
    "yellow_t = yellow_t[[\"pickup_datetime\",\"passenger_count\"]]\n",
    "yellow_t = yellow_t.set_index(\"pickup_datetime\")\n",
    "yellow_t = yellow_t['passenger_count'].resample('W').sum()\n",
    "yellow_t.plot()"
   ]
  },
  {
   "cell_type": "code",
   "execution_count": 69,
   "metadata": {},
   "outputs": [
    {
     "name": "stderr",
     "output_type": "stream",
     "text": [
      "/anaconda3/lib/python3.6/site-packages/ipykernel_launcher.py:1: UserWarning: Boolean Series key will be reindexed to match DataFrame index.\n",
      "  \"\"\"Entry point for launching an IPython kernel.\n"
     ]
    },
    {
     "data": {
      "text/plain": [
       "<matplotlib.axes._subplots.AxesSubplot at 0x11bed7240>"
      ]
     },
     "execution_count": 69,
     "metadata": {},
     "output_type": "execute_result"
    },
    {
     "data": {
      "image/png": "[encoded data removed]",
      "text/plain": [
       "<Figure size 432x288 with 1 Axes>"
      ]
     },
     "metadata": {
      "needs_background": "light"
     },
     "output_type": "display_data"
    }
   ],
   "source": [
    "mta_time = mta[uber[\"pickup_datetime\"] > '2014-04-01']\n",
    "mta_time = mta_time[mta_time[\"pickup_datetime\"] < '2014-09-01']\n",
    "mta_time = mta_time[[\"pickup_datetime\",\"new_entries\"]]\n",
    "mta_time = mta_time.set_index(\"pickup_datetime\")\n",
    "mta_time = mta_time['new_entries'].resample('W').count()\n",
    "mta_time.plot()"
   ]
  },
  {
   "cell_type": "code",
   "execution_count": 71,
   "metadata": {},
   "outputs": [
    {
     "data": {
      "text/plain": [
       "<matplotlib.axes._subplots.AxesSubplot at 0x118ff0da0>"
      ]
     },
     "execution_count": 71,
     "metadata": {},
     "output_type": "execute_result"
    },
    {
     "data": {
      "image/png": "[encoded data removed]",
      "text/plain": [
       "<Figure size 432x288 with 1 Axes>"
      ]
     },
     "metadata": {
      "needs_background": "light"
     },
     "output_type": "display_data"
    }
   ],
   "source": [
    "sns.boxenplot(data = mta, y= \"new_entries\")"
   ]
  },
  {
   "cell_type": "code",
   "execution_count": 73,
   "metadata": {},
   "outputs": [
    {
     "data": {
      "text/html": [
       "<div>\n",
       "<style scoped>\n",
       "    .dataframe tbody tr th:only-of-type {\n",
       "        vertical-align: middle;\n",
       "    }\n",
       "\n",
       "    .dataframe tbody tr th {\n",
       "        vertical-align: top;\n",
       "    }\n",
       "\n",
       "    .dataframe thead th {\n",
       "        text-align: right;\n",
       "    }\n",
       "</style>\n",
       "<table border=\"1\" class=\"dataframe\">\n",
       "  <thead>\n",
       "    <tr style=\"text-align: right;\">\n",
       "      <th></th>\n",
       "      <th>station</th>\n",
       "      <th>line_name</th>\n",
       "      <th>division</th>\n",
       "      <th>audit_type</th>\n",
       "      <th>unit_id</th>\n",
       "      <th>datetime</th>\n",
       "      <th>new_entries</th>\n",
       "      <th>new_exits</th>\n",
       "      <th>latitude</th>\n",
       "      <th>longitude</th>\n",
       "      <th>pickup_datetime</th>\n",
       "    </tr>\n",
       "  </thead>\n",
       "  <tbody>\n",
       "    <tr>\n",
       "      <th>0</th>\n",
       "      <td>WHITEHALL ST</td>\n",
       "      <td>R1</td>\n",
       "      <td>BMT</td>\n",
       "      <td>REGULAR</td>\n",
       "      <td>R001_A058_01-00-00</td>\n",
       "      <td>03/29/2014 05:00:00</td>\n",
       "      <td>4</td>\n",
       "      <td>6</td>\n",
       "      <td>40.703087</td>\n",
       "      <td>-74.012994</td>\n",
       "      <td>2014-03-29 05:00:00</td>\n",
       "    </tr>\n",
       "    <tr>\n",
       "      <th>1</th>\n",
       "      <td>WHITEHALL ST</td>\n",
       "      <td>R1</td>\n",
       "      <td>BMT</td>\n",
       "      <td>REGULAR</td>\n",
       "      <td>R001_A058_01-00-00</td>\n",
       "      <td>03/29/2014 09:00:00</td>\n",
       "      <td>1</td>\n",
       "      <td>13</td>\n",
       "      <td>40.703087</td>\n",
       "      <td>-74.012994</td>\n",
       "      <td>2014-03-29 09:00:00</td>\n",
       "    </tr>\n",
       "    <tr>\n",
       "      <th>2</th>\n",
       "      <td>WHITEHALL ST</td>\n",
       "      <td>R1</td>\n",
       "      <td>BMT</td>\n",
       "      <td>REGULAR</td>\n",
       "      <td>R001_A058_01-00-00</td>\n",
       "      <td>03/29/2014 13:00:00</td>\n",
       "      <td>1</td>\n",
       "      <td>8</td>\n",
       "      <td>40.703087</td>\n",
       "      <td>-74.012994</td>\n",
       "      <td>2014-03-29 13:00:00</td>\n",
       "    </tr>\n",
       "    <tr>\n",
       "      <th>3</th>\n",
       "      <td>WHITEHALL ST</td>\n",
       "      <td>R1</td>\n",
       "      <td>BMT</td>\n",
       "      <td>REGULAR</td>\n",
       "      <td>R001_A058_01-00-00</td>\n",
       "      <td>03/29/2014 17:00:00</td>\n",
       "      <td>1</td>\n",
       "      <td>8</td>\n",
       "      <td>40.703087</td>\n",
       "      <td>-74.012994</td>\n",
       "      <td>2014-03-29 17:00:00</td>\n",
       "    </tr>\n",
       "    <tr>\n",
       "      <th>4</th>\n",
       "      <td>WHITEHALL ST</td>\n",
       "      <td>R1</td>\n",
       "      <td>BMT</td>\n",
       "      <td>REGULAR</td>\n",
       "      <td>R001_A058_01-00-00</td>\n",
       "      <td>03/29/2014 21:00:00</td>\n",
       "      <td>2</td>\n",
       "      <td>3</td>\n",
       "      <td>40.703087</td>\n",
       "      <td>-74.012994</td>\n",
       "      <td>2014-03-29 21:00:00</td>\n",
       "    </tr>\n",
       "  </tbody>\n",
       "</table>\n",
       "</div>"
      ],
      "text/plain": [
       "        station line_name division audit_type             unit_id  \\\n",
       "0  WHITEHALL ST        R1      BMT    REGULAR  R001_A058_01-00-00   \n",
       "1  WHITEHALL ST        R1      BMT    REGULAR  R001_A058_01-00-00   \n",
       "2  WHITEHALL ST        R1      BMT    REGULAR  R001_A058_01-00-00   \n",
       "3  WHITEHALL ST        R1      BMT    REGULAR  R001_A058_01-00-00   \n",
       "4  WHITEHALL ST        R1      BMT    REGULAR  R001_A058_01-00-00   \n",
       "\n",
       "              datetime  new_entries  new_exits   latitude  longitude  \\\n",
       "0  03/29/2014 05:00:00            4          6  40.703087 -74.012994   \n",
       "1  03/29/2014 09:00:00            1         13  40.703087 -74.012994   \n",
       "2  03/29/2014 13:00:00            1          8  40.703087 -74.012994   \n",
       "3  03/29/2014 17:00:00            1          8  40.703087 -74.012994   \n",
       "4  03/29/2014 21:00:00            2          3  40.703087 -74.012994   \n",
       "\n",
       "      pickup_datetime  \n",
       "0 2014-03-29 05:00:00  \n",
       "1 2014-03-29 09:00:00  \n",
       "2 2014-03-29 13:00:00  \n",
       "3 2014-03-29 17:00:00  \n",
       "4 2014-03-29 21:00:00  "
      ]
     },
     "execution_count": 73,
     "metadata": {},
     "output_type": "execute_result"
    }
   ],
   "source": [
    "mta.head()"
   ]
  },
  {
   "cell_type": "code",
   "execution_count": 54,
   "metadata": {},
   "outputs": [
    {
     "data": {
      "text/html": [
       "<div>\n",
       "<style scoped>\n",
       "    .dataframe tbody tr th:only-of-type {\n",
       "        vertical-align: middle;\n",
       "    }\n",
       "\n",
       "    .dataframe tbody tr th {\n",
       "        vertical-align: top;\n",
       "    }\n",
       "\n",
       "    .dataframe thead th {\n",
       "        text-align: right;\n",
       "    }\n",
       "</style>\n",
       "<table border=\"1\" class=\"dataframe\">\n",
       "  <thead>\n",
       "    <tr style=\"text-align: right;\">\n",
       "      <th></th>\n",
       "      <th>pickup_datetime</th>\n",
       "      <th>dropoff_datetime</th>\n",
       "      <th>pickup_longitude</th>\n",
       "      <th>pickup_latitude</th>\n",
       "      <th>dropoff_longitude</th>\n",
       "      <th>dropoff_latitude</th>\n",
       "      <th>passenger_count</th>\n",
       "      <th>trip_distance</th>\n",
       "      <th>total_amount</th>\n",
       "    </tr>\n",
       "  </thead>\n",
       "  <tbody>\n",
       "    <tr>\n",
       "      <th>0</th>\n",
       "      <td>2014-04-03 18:28:10</td>\n",
       "      <td>2014-04-03 18:54:32</td>\n",
       "      <td>-74.006033</td>\n",
       "      <td>40.706284</td>\n",
       "      <td>-73.918837</td>\n",
       "      <td>40.744946</td>\n",
       "      <td>1</td>\n",
       "      <td>8.70</td>\n",
       "      <td>34.8</td>\n",
       "    </tr>\n",
       "    <tr>\n",
       "      <th>1</th>\n",
       "      <td>2014-04-16 15:42:00</td>\n",
       "      <td>2014-04-16 16:07:00</td>\n",
       "      <td>-73.979558</td>\n",
       "      <td>40.749357</td>\n",
       "      <td>0.000000</td>\n",
       "      <td>0.000000</td>\n",
       "      <td>1</td>\n",
       "      <td>9.37</td>\n",
       "      <td>30.0</td>\n",
       "    </tr>\n",
       "    <tr>\n",
       "      <th>2</th>\n",
       "      <td>2014-04-13 18:04:00</td>\n",
       "      <td>2014-04-13 18:07:00</td>\n",
       "      <td>-73.956453</td>\n",
       "      <td>40.775307</td>\n",
       "      <td>-73.954792</td>\n",
       "      <td>40.784992</td>\n",
       "      <td>1</td>\n",
       "      <td>0.89</td>\n",
       "      <td>6.5</td>\n",
       "    </tr>\n",
       "    <tr>\n",
       "      <th>3</th>\n",
       "      <td>2014-05-21 19:33:00</td>\n",
       "      <td>2014-05-21 19:45:00</td>\n",
       "      <td>-73.987212</td>\n",
       "      <td>40.757850</td>\n",
       "      <td>-73.960198</td>\n",
       "      <td>40.775472</td>\n",
       "      <td>1</td>\n",
       "      <td>2.40</td>\n",
       "      <td>12.5</td>\n",
       "    </tr>\n",
       "    <tr>\n",
       "      <th>4</th>\n",
       "      <td>2014-05-30 16:28:00</td>\n",
       "      <td>2014-05-30 16:51:00</td>\n",
       "      <td>-73.974292</td>\n",
       "      <td>40.755397</td>\n",
       "      <td>-74.011867</td>\n",
       "      <td>40.704222</td>\n",
       "      <td>3</td>\n",
       "      <td>5.58</td>\n",
       "      <td>24.5</td>\n",
       "    </tr>\n",
       "  </tbody>\n",
       "</table>\n",
       "</div>"
      ],
      "text/plain": [
       "      pickup_datetime    dropoff_datetime  pickup_longitude  pickup_latitude  \\\n",
       "0 2014-04-03 18:28:10 2014-04-03 18:54:32        -74.006033        40.706284   \n",
       "1 2014-04-16 15:42:00 2014-04-16 16:07:00        -73.979558        40.749357   \n",
       "2 2014-04-13 18:04:00 2014-04-13 18:07:00        -73.956453        40.775307   \n",
       "3 2014-05-21 19:33:00 2014-05-21 19:45:00        -73.987212        40.757850   \n",
       "4 2014-05-30 16:28:00 2014-05-30 16:51:00        -73.974292        40.755397   \n",
       "\n",
       "   dropoff_longitude  dropoff_latitude  passenger_count  trip_distance  \\\n",
       "0         -73.918837         40.744946                1           8.70   \n",
       "1           0.000000          0.000000                1           9.37   \n",
       "2         -73.954792         40.784992                1           0.89   \n",
       "3         -73.960198         40.775472                1           2.40   \n",
       "4         -74.011867         40.704222                3           5.58   \n",
       "\n",
       "   total_amount  \n",
       "0          34.8  \n",
       "1          30.0  \n",
       "2           6.5  \n",
       "3          12.5  \n",
       "4          24.5  "
      ]
     },
     "execution_count": 54,
     "metadata": {},
     "output_type": "execute_result"
    }
   ],
   "source": [
    "yellow.head()"
   ]
  },
  {
   "cell_type": "code",
   "execution_count": 75,
   "metadata": {},
   "outputs": [],
   "source": [
    "yellow[\"pickup_geohash\"] = yellow.apply(lambda row : pgh.encode(row[\"pickup_latitude\"], row[\"pickup_longitude\"], precision=5), axis = 1)"
   ]
  },
  {
   "cell_type": "code",
   "execution_count": 76,
   "metadata": {},
   "outputs": [],
   "source": [
    "mta[\"pickup_geohash\"] = mta.apply(lambda row : pgh.encode(row[\"latitude\"], row[\"longitude\"], precision=5), axis=1)"
   ]
  },
  {
   "cell_type": "code",
   "execution_count": 78,
   "metadata": {},
   "outputs": [
    {
     "data": {
      "text/plain": [
       "35"
      ]
     },
     "execution_count": 78,
     "metadata": {},
     "output_type": "execute_result"
    }
   ],
   "source": [
    "len(mta[\"pickup_geohash\"].unique())"
   ]
  },
  {
   "cell_type": "code",
   "execution_count": 79,
   "metadata": {},
   "outputs": [],
   "source": [
    "yellow_t = yellow[yellow[\"pickup_datetime\"] > '2014-04-01']\n",
    "yellow_t = yellow_t[yellow_t[\"pickup_datetime\"] < '2014-09-01']"
   ]
  },
  {
   "cell_type": "code",
   "execution_count": 142,
   "metadata": {},
   "outputs": [],
   "source": [
    "tax_hash = yellow_t.groupby(\"pickup_geohash\").agg({\"passenger_count\":\"sum\"}).reset_index()"
   ]
  },
  {
   "cell_type": "code",
   "execution_count": 143,
   "metadata": {},
   "outputs": [
    {
     "data": {
      "text/plain": [
       "461"
      ]
     },
     "execution_count": 143,
     "metadata": {},
     "output_type": "execute_result"
    }
   ],
   "source": [
    "len(tax_hash)"
   ]
  },
  {
   "cell_type": "code",
   "execution_count": null,
   "metadata": {},
   "outputs": [],
   "source": []
  },
  {
   "cell_type": "code",
   "execution_count": 144,
   "metadata": {},
   "outputs": [],
   "source": [
    "tax_hash[\"geo_hash_lat_lon\"] = tax_hash.pickup_geohash.apply(lambda x : pgh.decode(x)) "
   ]
  },
  {
   "cell_type": "code",
   "execution_count": 145,
   "metadata": {},
   "outputs": [],
   "source": [
    "tax_hash[\"geo_hash_lat\"] = tax_hash.geo_hash_lat_lon.apply(lambda x : x[0])\n",
    "tax_hash[\"geo_hash_lon\"] = tax_hash.geo_hash_lat_lon.apply(lambda x : x[1])\n"
   ]
  },
  {
   "cell_type": "code",
   "execution_count": 146,
   "metadata": {},
   "outputs": [
    {
     "data": {
      "text/plain": [
       "<matplotlib.axes._subplots.AxesSubplot at 0x280fe3e48>"
      ]
     },
     "execution_count": 146,
     "metadata": {},
     "output_type": "execute_result"
    },
    {
     "data": {
      "image/png": "[encoded data removed]",
      "text/plain": [
       "<Figure size 432x288 with 1 Axes>"
      ]
     },
     "metadata": {
      "needs_background": "light"
     },
     "output_type": "display_data"
    }
   ],
   "source": [
    "sns.scatterplot(x=\"geo_hash_lon\", y=\"geo_hash_lat\",\n",
    "                     size=\"passenger_count\",\n",
    "                      data=tax_hash)"
   ]
  },
  {
   "cell_type": "code",
   "execution_count": 147,
   "metadata": {},
   "outputs": [
    {
     "data": {
      "text/plain": [
       "<matplotlib.axes._subplots.AxesSubplot at 0x280fd4a20>"
      ]
     },
     "execution_count": 147,
     "metadata": {},
     "output_type": "execute_result"
    },
    {
     "data": {
      "image/png": "[encoded data removed]",
      "text/plain": [
       "<Figure size 432x288 with 1 Axes>"
      ]
     },
     "metadata": {
      "needs_background": "light"
     },
     "output_type": "display_data"
    }
   ],
   "source": [
    "sns.scatterplot(x=\"geo_hash_lon\", y=\"geo_hash_lat\",\n",
    "                     size=\"passenger_count\",\n",
    "                      data=tax_hash.query(\"geo_hash_lon> -75 & geo_hash_lon< -73 & geo_hash_lat> 39 & geo_hash_lat<41.8 \"))"
   ]
  },
  {
   "cell_type": "code",
   "execution_count": 148,
   "metadata": {},
   "outputs": [],
   "source": [
    "yellow_t = yellow[yellow[\"pickup_datetime\"] > '2014-04-01']\n",
    "yellow_t = yellow_t[yellow_t[\"pickup_datetime\"] < '2014-09-01']\n",
    "mta_has = mta.groupby([\"pickup_geohash\"]).agg({\"new_entries\":\"sum\"}).rename(columns = {\"new_entries\": \"passenger_count\"}).reset_index()"
   ]
  },
  {
   "cell_type": "code",
   "execution_count": 149,
   "metadata": {},
   "outputs": [],
   "source": [
    "\n",
    "mta_has[\"type\"] = \"mta\"\n",
    "tax_hash[\"type\"] = \"tax\"\n",
    "mta_has[\"geo_hash_lat_lon\"] = mta_has.pickup_geohash.apply(lambda x : pgh.decode(x)) \n",
    "mta_has[\"geo_hash_lat\"] = mta_has.geo_hash_lat_lon.apply(lambda x : x[0])\n",
    "mta_has[\"geo_hash_lon\"] = mta_has.geo_hash_lat_lon.apply(lambda x : x[1])\n"
   ]
  },
  {
   "cell_type": "code",
   "execution_count": 160,
   "metadata": {},
   "outputs": [
    {
     "name": "stderr",
     "output_type": "stream",
     "text": [
      "/anaconda3/lib/python3.6/site-packages/ipykernel_launcher.py:1: FutureWarning: Sorting because non-concatenation axis is not aligned. A future version\n",
      "of pandas will change to not sort by default.\n",
      "\n",
      "To accept the future behavior, pass 'sort=False'.\n",
      "\n",
      "To retain the current behavior and silence the warning, pass 'sort=True'.\n",
      "\n",
      "  \"\"\"Entry point for launching an IPython kernel.\n"
     ]
    }
   ],
   "source": [
    "total_trans = pd.concat([tax_hash, mta_has])"
   ]
  },
  {
   "cell_type": "code",
   "execution_count": 162,
   "metadata": {},
   "outputs": [
    {
     "data": {
      "text/plain": [
       "<matplotlib.axes._subplots.AxesSubplot at 0x28148fe10>"
      ]
     },
     "execution_count": 162,
     "metadata": {},
     "output_type": "execute_result"
    },
    {
     "data": {
      "image/png": "[encoded data removed]",
      "text/plain": [
       "<Figure size 432x288 with 1 Axes>"
      ]
     },
     "metadata": {
      "needs_background": "light"
     },
     "output_type": "display_data"
    }
   ],
   "source": [
    "sns.scatterplot(x=\"geo_hash_lon\", y=\"geo_hash_lat\",\n",
    "                     size=\"passenger_count\", hue =\"type\" ,\n",
    "                      data=total_trans.query(\"geo_hash_lon> -75 & geo_hash_lon< -73 & geo_hash_lat> 39 & geo_hash_lat<41.8 \"))"
   ]
  },
  {
   "cell_type": "code",
   "execution_count": null,
   "metadata": {},
   "outputs": [],
   "source": []
  },
  {
   "cell_type": "code",
   "execution_count": null,
   "metadata": {},
   "outputs": [],
   "source": [
    "yellow.head()"
   ]
  },
  {
   "cell_type": "code",
   "execution_count": null,
   "metadata": {},
   "outputs": [],
   "source": [
    "yellow_filte = yellow[yellow[\"trip_distance\"]>1]"
   ]
  },
  {
   "cell_type": "code",
   "execution_count": null,
   "metadata": {},
   "outputs": [],
   "source": [
    "hash_start = []\n",
    "hash_end = []\n",
    "for idx, row in yellow_filte.iterrows():\n",
    "    hash_start.append(pgh.encode(row[\"pickup_latitude\"], row[\"pickup_longitude\"], precision=5) )\n",
    "    hash_end.append(pgh.encode(row[\"dropoff_latitude\"], row[\"dropoff_longitude\"], precision=5) )"
   ]
  },
  {
   "cell_type": "code",
   "execution_count": null,
   "metadata": {},
   "outputs": [],
   "source": [
    "yellow_filte[\"pickup_datetime\"] = pd.to_datetime(yellow_filte[\"pickup_datetime\"], format='%Y-%m-%d %H:%M:%S')\n",
    "yellow_filte[\"dropoff_datetime\"] = pd.to_datetime(yellow_filte[\"dropoff_datetime\"], format='%Y-%m-%d %H:%M:%S')"
   ]
  },
  {
   "cell_type": "code",
   "execution_count": null,
   "metadata": {},
   "outputs": [],
   "source": [
    "yellow_filte[\"hash_pick\"] = hash_start\n",
    "yellow_filte[\"hash_drop\"] = hash_end"
   ]
  },
  {
   "cell_type": "code",
   "execution_count": null,
   "metadata": {},
   "outputs": [],
   "source": [
    "yellow_filte[\"year\"]= yellow.dropoff_datetime.apply(lambda x : x.year)"
   ]
  },
  {
   "cell_type": "code",
   "execution_count": null,
   "metadata": {},
   "outputs": [],
   "source": [
    "hash_sum = yellow_filte.groupby([\"year\",\"hash_pick\", \"hash_drop\" ]).agg({\"trip_distance\":\"mean\",\n",
    "                                                                   \"total_amount\":\"mean\", \n",
    "                                                                  \"passenger_count\":\"count\"})"
   ]
  },
  {
   "cell_type": "code",
   "execution_count": null,
   "metadata": {},
   "outputs": [],
   "source": [
    "hash_sum"
   ]
  },
  {
   "cell_type": "code",
   "execution_count": null,
   "metadata": {},
   "outputs": [],
   "source": [
    "len(yellow.hash_drop.unique())"
   ]
  },
  {
   "cell_type": "code",
   "execution_count": null,
   "metadata": {},
   "outputs": [],
   "source": []
  },
  {
   "cell_type": "code",
   "execution_count": null,
   "metadata": {},
   "outputs": [],
   "source": []
  },
  {
   "cell_type": "code",
   "execution_count": null,
   "metadata": {},
   "outputs": [],
   "source": []
  },
  {
   "cell_type": "code",
   "execution_count": null,
   "metadata": {},
   "outputs": [],
   "source": []
  },
  {
   "cell_type": "code",
   "execution_count": null,
   "metadata": {},
   "outputs": [],
   "source": []
  },
  {
   "cell_type": "code",
   "execution_count": null,
   "metadata": {},
   "outputs": [],
   "source": []
  },
  {
   "cell_type": "code",
   "execution_count": null,
   "metadata": {},
   "outputs": [],
   "source": []
  },
  {
   "cell_type": "code",
   "execution_count": null,
   "metadata": {},
   "outputs": [],
   "source": []
  },
  {
   "cell_type": "code",
   "execution_count": null,
   "metadata": {},
   "outputs": [],
   "source": []
  },
  {
   "cell_type": "code",
   "execution_count": null,
   "metadata": {},
   "outputs": [],
   "source": []
  },
  {
   "cell_type": "code",
   "execution_count": null,
   "metadata": {},
   "outputs": [],
   "source": []
  },
  {
   "cell_type": "code",
   "execution_count": null,
   "metadata": {},
   "outputs": [],
   "source": []
  },
  {
   "cell_type": "code",
   "execution_count": null,
   "metadata": {},
   "outputs": [],
   "source": []
  },
  {
   "cell_type": "code",
   "execution_count": null,
   "metadata": {},
   "outputs": [],
   "source": []
  },
  {
   "cell_type": "code",
   "execution_count": null,
   "metadata": {},
   "outputs": [],
   "source": []
  },
  {
   "cell_type": "code",
   "execution_count": null,
   "metadata": {},
   "outputs": [],
   "source": []
  },
  {
   "cell_type": "code",
   "execution_count": null,
   "metadata": {},
   "outputs": [],
   "source": [
    "green = pd.read_csv(\"Dataset/green_trips.csv\")"
   ]
  },
  {
   "cell_type": "code",
   "execution_count": null,
   "metadata": {},
   "outputs": [],
   "source": [
    "yellow.columns"
   ]
  },
  {
   "cell_type": "code",
   "execution_count": null,
   "metadata": {},
   "outputs": [],
   "source": [
    "yellow.dtypes"
   ]
  },
  {
   "cell_type": "code",
   "execution_count": null,
   "metadata": {},
   "outputs": [],
   "source": [
    "yellow[\"ones\"] = 1\n",
    "yellow.head()"
   ]
  },
  {
   "cell_type": "code",
   "execution_count": null,
   "metadata": {},
   "outputs": [],
   "source": [
    "yellow[\"date\"] = pd.to_datetime(yellow[\"pickup_datetime\"], format='%Y-%m-%d %H:%M:%S')"
   ]
  },
  {
   "cell_type": "code",
   "execution_count": null,
   "metadata": {},
   "outputs": [],
   "source": [
    "yellow[\"date1\"] = pd.to_datetime(yellow[\"dropoff_datetime\"], format='%Y-%m-%d %H:%M:%S')"
   ]
  },
  {
   "cell_type": "code",
   "execution_count": null,
   "metadata": {},
   "outputs": [],
   "source": [
    "max(yellow[\"pickup_datetime\"])"
   ]
  },
  {
   "cell_type": "code",
   "execution_count": null,
   "metadata": {},
   "outputs": [],
   "source": [
    "min(yellow[\"pickup_datetime\"])"
   ]
  },
  {
   "cell_type": "code",
   "execution_count": null,
   "metadata": {},
   "outputs": [],
   "source": [
    "yellow.describe()"
   ]
  },
  {
   "cell_type": "code",
   "execution_count": null,
   "metadata": {},
   "outputs": [],
   "source": [
    "#green.describe()"
   ]
  },
  {
   "cell_type": "code",
   "execution_count": null,
   "metadata": {},
   "outputs": [],
   "source": []
  },
  {
   "cell_type": "code",
   "execution_count": null,
   "metadata": {},
   "outputs": [],
   "source": [
    "\n",
    "\n",
    "#rcParams['figure.figsize'] = 18, 8\n",
    "#decomposition = sm.tsa.seasonal_decompose(yel_2014, model='additive')\n",
    "#fig = decomposition.plot()\n",
    "#plt.show()"
   ]
  },
  {
   "cell_type": "markdown",
   "metadata": {},
   "source": [
    "# Analysis from time series trips "
   ]
  },
  {
   "cell_type": "code",
   "execution_count": null,
   "metadata": {},
   "outputs": [],
   "source": [
    "#yellow[\"week\"] = yellow[\"date\"].apply(lambda x : x.month)\n",
    "#yellow[\"day\"] = yellow[\"date\"].apply(lambda x : x.day)\n"
   ]
  },
  {
   "cell_type": "code",
   "execution_count": null,
   "metadata": {},
   "outputs": [],
   "source": [
    "yellow[\"date_d\"] = yellow[\"date\"].apply(lambda x : x.date())"
   ]
  },
  {
   "cell_type": "code",
   "execution_count": null,
   "metadata": {},
   "outputs": [],
   "source": [
    "group_day = yellow.groupby('date').agg({\"ones\":\"count\"}).reset_index()"
   ]
  },
  {
   "cell_type": "code",
   "execution_count": null,
   "metadata": {},
   "outputs": [],
   "source": [
    "sns.lineplot(data = yellow, x= \"date\", y= \"ones\")"
   ]
  },
  {
   "cell_type": "code",
   "execution_count": null,
   "metadata": {},
   "outputs": [],
   "source": [
    "yel_2014 = yellow[yellow[\"pickup_datetime\"]<'2015-01-01']\n",
    "yel_2014= yel_2014[[\"date\", \"ones\"]]\n",
    "yel_2014 = yel_2014.set_index(\"date\")\n",
    "yel_2014 = yel_2014['ones'].resample('d').sum()"
   ]
  },
  {
   "cell_type": "code",
   "execution_count": null,
   "metadata": {},
   "outputs": [],
   "source": [
    "yel_2014.plot()"
   ]
  },
  {
   "cell_type": "code",
   "execution_count": null,
   "metadata": {},
   "outputs": [],
   "source": [
    "yel_2014 = yellow[yellow[\"pickup_datetime\"]<'2015-01-01']\n",
    "yel_2014= yel_2014[[\"date\", \"ones\"]]\n",
    "yel_2014 = yel_2014.set_index(\"date\")\n",
    "yel_2014 = yel_2014['ones'].resample('W').sum()\n",
    "yel_2014.plot()"
   ]
  },
  {
   "cell_type": "code",
   "execution_count": null,
   "metadata": {},
   "outputs": [],
   "source": [
    "yel_2015 = yellow[yellow[\"pickup_datetime\"]>'2015-01-01']\n",
    "yel_2015= yel_2015[[\"date\", \"ones\"]]\n",
    "yel_2015 = yel_2015.set_index(\"date\")\n",
    "yel_2015 = yel_2015['ones'].resample('d').sum()\n",
    "yel_2015.plot()"
   ]
  },
  {
   "cell_type": "code",
   "execution_count": null,
   "metadata": {},
   "outputs": [],
   "source": [
    "yellow_subset = yellow[[\"date\", \"ones\"]]\n",
    "yellow_subset = yellow_subset.set_index(\"date\")\n",
    "yellow_subset = yellow_subset['ones'].resample('d').sum()\n",
    "yellow_subset.plot()"
   ]
  },
  {
   "cell_type": "code",
   "execution_count": null,
   "metadata": {},
   "outputs": [],
   "source": [
    "yellow_subset = yellow[[\"date\", \"ones\"]]\n",
    "yellow_subset = yellow_subset.set_index(\"date\")\n",
    "yellow_subset = yellow_subset['ones'].resample('W').sum()\n",
    "yellow_subset.plot()\n",
    "rcParams['figure.figsize'] = 18, 8\n",
    "decomposition = sm.tsa.seasonal_decompose(yellow_subset, model='additive')\n",
    "fig = decomposition.plot()\n",
    "plt.show()"
   ]
  },
  {
   "cell_type": "markdown",
   "metadata": {},
   "source": [
    "# Time traveling info "
   ]
  },
  {
   "cell_type": "code",
   "execution_count": null,
   "metadata": {},
   "outputs": [],
   "source": [
    "#pd.Timedelta(pd.to_timedelta( yellow['date1']) - pd.to_timedelta(yellow['date']))"
   ]
  },
  {
   "cell_type": "code",
   "execution_count": null,
   "metadata": {},
   "outputs": [],
   "source": []
  }
 ],
 "metadata": {
  "kernelspec": {
   "display_name": "Python 3",
   "language": "python",
   "name": "python3"
  },
  "language_info": {
   "codemirror_mode": {
    "name": "ipython",
    "version": 3
   },
   "file_extension": ".py",
   "mimetype": "text/x-python",
   "name": "python",
   "nbconvert_exporter": "python",
   "pygments_lexer": "ipython3",
   "version": "3.6.8"
  }
 },
 "nbformat": 4,
 "nbformat_minor": 2
}
